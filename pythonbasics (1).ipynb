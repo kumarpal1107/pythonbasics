{
  "nbformat": 4,
  "nbformat_minor": 0,
  "metadata": {
    "colab": {
      "provenance": []
    },
    "kernelspec": {
      "name": "python3",
      "display_name": "Python 3"
    },
    "language_info": {
      "name": "python"
    }
  },
  "cells": [
    {
      "cell_type": "markdown",
      "source": [
        "1) what is python and why is it popular ?\n",
        "- Python is a high-level, versatile, and easy-to-learn programming language known for its readability and extensive libraries.\n",
        "it is popular because of\n",
        "a) easy to learn\n",
        "b) extensive libraries\n",
        "2) what is an interpreter in python ?\n",
        "- an interpreter in python is a program that reads and execute python codes into machine code that the computer processor can understand and execute\n",
        "3)what are the predefined words in python ?\n",
        "-in puython predefined words are called the keywords . these keywords have special meanings and are uses to define the syntax and structure and language . examples of keywords are and , as, def, del.\n",
        "4)can keywords be used as a variable names?\n",
        "-no, keywords can't be used as variable names.\n",
        "5)what is mutabilityb in python?\n",
        "-mutuability means ability of an object to be modified after its created\n",
        "6)why are lists mutuable but tuples are immutable?\n",
        "-lists are designed to be modified after there creation.while tuples are designed to be collections of items that cannot be modified\n",
        "7)what is the difference between \"==\" and \"is\" operator in python?\n",
        "- the \"is\" operator is used to check if different variables are pointing to the same object in memory. The \"==\" operator is used in Python when the values of the operands are equal\n",
        "8)what are logical operators in python ?\n",
        "-logical operators are used for conditional statement in python examples are and , or , not .\n",
        "9)what is type casting in python?\n",
        "- type casting is the process of converting one data type into another data type\n",
        "10)what is the difference between implicit and explicit type casting?\n",
        "- Implicit casting also called automatic type conversion, is done automatically by the compiler when different data types are mixed in an expression. Explicit casting, is performed manually by the programmer by explicitly specifying the desired data type.\n",
        "11)what is the purpose of conditional statement in python?\n",
        "-conditionals statements are used to control the flow of program based on certain conditions. they allow you to execute specific blocks of code if certain conditions are met .examples of conditionals statements are if, elif, else\n",
        "12)how does the elif statement work?\n",
        "-the elif statment is a short form of else if .it is used to check additional  condition in the if statement is false .\n",
        "13)what is the difference between for and while loops?\n",
        "-for loops iterate over a squence and while loops repeat based on a condition .\n",
        "for loops have a fixed number of iterations . while loops have variable number of iterations .\n",
        "14)imagine you are building a program that asks user to input a password the password must meet the certain criteria such as being atleast 8 characters in this scenario a while loop is more suitable than for loop because user can have unknown number of iterations.\n",
        "-\n"
      ],
      "metadata": {
        "id": "xb3WNeJ5DlFY"
      }
    },
    {
      "cell_type": "code",
      "source": [
        "print(\"hello,world\")\n",
        "\n"
      ],
      "metadata": {
        "id": "4D3pKfu7Nsr5",
        "colab": {
          "base_uri": "https://localhost:8080/"
        },
        "outputId": "8db603d0-003b-4d68-c9f5-151df8c7c5c0"
      },
      "execution_count": 2,
      "outputs": [
        {
          "output_type": "stream",
          "name": "stdout",
          "text": [
            "hello,world\n"
          ]
        }
      ]
    },
    {
      "cell_type": "code",
      "execution_count": 3,
      "metadata": {
        "id": "bYQZcZGrDdOA",
        "colab": {
          "base_uri": "https://localhost:8080/"
        },
        "outputId": "2989af2b-f2fe-411d-b9ed-192b3466eb8e"
      },
      "outputs": [
        {
          "output_type": "stream",
          "name": "stdout",
          "text": [
            "my name is kumarpal\n",
            "my age is 29\n"
          ]
        }
      ],
      "source": [
        "name = \"kumarpal\"\n",
        "age = 29\n",
        "print(f\"my name is {name}\")\n",
        "print(f\"my age is {age}\")"
      ]
    },
    {
      "cell_type": "code",
      "source": [
        "import keyword\n",
        "print(keyword.kwlist)"
      ],
      "metadata": {
        "colab": {
          "base_uri": "https://localhost:8080/"
        },
        "id": "binfB8QmYH8R",
        "outputId": "80b94ee9-836a-46a2-9c7a-e7ed45c61696"
      },
      "execution_count": 4,
      "outputs": [
        {
          "output_type": "stream",
          "name": "stdout",
          "text": [
            "['False', 'None', 'True', 'and', 'as', 'assert', 'async', 'await', 'break', 'class', 'continue', 'def', 'del', 'elif', 'else', 'except', 'finally', 'for', 'from', 'global', 'if', 'import', 'in', 'is', 'lambda', 'nonlocal', 'not', 'or', 'pass', 'raise', 'return', 'try', 'while', 'with', 'yield']\n"
          ]
        }
      ]
    },
    {
      "cell_type": "code",
      "source": [
        "import keyword\n",
        "word = input(\"enter a word: \")\n",
        "if word in keyword.kwlist:\n",
        "    print(\"it is a python keyword\")\n",
        "else:\n",
        "    print(\"it is not a python keyword\")"
      ],
      "metadata": {
        "colab": {
          "base_uri": "https://localhost:8080/"
        },
        "id": "otrAnPH2YTw6",
        "outputId": "d7be9477-eb38-4f57-f4d9-a6aaa65bc49c"
      },
      "execution_count": 6,
      "outputs": [
        {
          "output_type": "stream",
          "name": "stdout",
          "text": [
            "enter a word: continue\n",
            "it is a python keyword\n"
          ]
        }
      ]
    },
    {
      "cell_type": "code",
      "source": [
        "a_list = [\"apple\",\"banana\",\"orange\"]\n",
        "a_list[2] = \"pineapple\"\n",
        "print(a_list)"
      ],
      "metadata": {
        "colab": {
          "base_uri": "https://localhost:8080/"
        },
        "id": "mbkLTaKAZOha",
        "outputId": "86a43a1c-9beb-4a52-f6a0-4fdfd28d0c03"
      },
      "execution_count": 11,
      "outputs": [
        {
          "output_type": "stream",
          "name": "stdout",
          "text": [
            "['apple', 'banana', 'pineapple']\n"
          ]
        }
      ]
    },
    {
      "cell_type": "code",
      "source": [
        "b_tuple=(\"car\",\"bike\",100,2.4,25)\n",
        "b_tuple[2] = \"bus\"\n",
        "print(b_tupple)"
      ],
      "metadata": {
        "id": "gY0ZtJbYa_OR"
      },
      "execution_count": null,
      "outputs": []
    },
    {
      "cell_type": "code",
      "source": [
        "a = 5\n",
        "lst = [1 , 2 , 3]\n",
        "def change_values(a, lst):\n",
        "    a +=5\n",
        "    lst .append(4)\n",
        "change_values(a, lst)\n",
        "print(a)\n",
        "print(lst)"
      ],
      "metadata": {
        "colab": {
          "base_uri": "https://localhost:8080/"
        },
        "id": "K5hT-adPbUOg",
        "outputId": "63c4b472-aa3f-4244-adb6-9f14168fe7a8"
      },
      "execution_count": 17,
      "outputs": [
        {
          "output_type": "stream",
          "name": "stdout",
          "text": [
            "5\n",
            "[1, 2, 3, 4]\n"
          ]
        }
      ]
    },
    {
      "cell_type": "code",
      "source": [
        "a = int(input(\"enter a number:\"))\n",
        "b = int(input(\"enter a number:\"))\n",
        "print(f\"add of {a} and {b} is {a+b}\")\n",
        "print(f\"sub of {a} and {b} is {a-b}\")\n",
        "print(f\"mul of {a} and {b} is {a*b}\")\n",
        "print(f\"div of {a} and {b} is {a/b}\")"
      ],
      "metadata": {
        "colab": {
          "base_uri": "https://localhost:8080/"
        },
        "id": "McTHtUQscUUZ",
        "outputId": "39b2fe27-234b-4d1c-e536-03648e845a58"
      },
      "execution_count": 18,
      "outputs": [
        {
          "output_type": "stream",
          "name": "stdout",
          "text": [
            "enter a number:15\n",
            "enter a number:5\n",
            "add of 15 and 5 is 20\n",
            "sub of 15 and 5 is 10\n",
            "mul of 15 and 5 is 75\n",
            "div of 15 and 5 is 3.0\n"
          ]
        }
      ]
    },
    {
      "cell_type": "code",
      "source": [
        "a = True\n",
        "b = False\n",
        "print(a and b)\n",
        "print(a or b)\n",
        "print(not a)\n"
      ],
      "metadata": {
        "colab": {
          "base_uri": "https://localhost:8080/"
        },
        "id": "GoNX6aCXdbLR",
        "outputId": "fb70e39b-c1f2-4306-833b-4fbf378cf93a"
      },
      "execution_count": 20,
      "outputs": [
        {
          "output_type": "stream",
          "name": "stdout",
          "text": [
            "False\n",
            "True\n",
            "False\n"
          ]
        }
      ]
    },
    {
      "cell_type": "code",
      "source": [
        "user_input = input(\"enter a number:\")\n",
        "a = int(user_input)\n",
        "b = float(user_input)\n",
        "c = bool(user_input)\n",
        "print(a)\n",
        "print(b)\n",
        "print(c)\n"
      ],
      "metadata": {
        "colab": {
          "base_uri": "https://localhost:8080/"
        },
        "id": "TUajnbD_d0k5",
        "outputId": "f2868b49-d5c8-4d9a-bb86-4195c3b88ce5"
      },
      "execution_count": 21,
      "outputs": [
        {
          "output_type": "stream",
          "name": "stdout",
          "text": [
            "enter a number:20\n",
            "20\n",
            "20.0\n",
            "True\n"
          ]
        }
      ]
    },
    {
      "cell_type": "code",
      "source": [
        "a_list = [\"car\" , \"bike\" , 200 , 3.5 , 30]\n",
        "a_list[3] = int(a_list[3])\n",
        "print(a_list[3])"
      ],
      "metadata": {
        "colab": {
          "base_uri": "https://localhost:8080/"
        },
        "id": "gDYbF4V6emIZ",
        "outputId": "d1bb2106-95fc-47b7-d14c-56e72933d7aa"
      },
      "execution_count": 22,
      "outputs": [
        {
          "output_type": "stream",
          "name": "stdout",
          "text": [
            "3\n"
          ]
        }
      ]
    },
    {
      "cell_type": "code",
      "source": [
        "num=int(input(\"enter a number:\"))\n",
        "if num>0:\n",
        "    print(\"number is positive\")\n",
        "elif num<0:\n",
        "    print(\"number is negative\")\n",
        "else:\n",
        "    print(\"number is zero\")\n",
        ""
      ],
      "metadata": {
        "colab": {
          "base_uri": "https://localhost:8080/"
        },
        "id": "JFDat0bAffgZ",
        "outputId": "719064e2-1e0e-4cb7-8551-3e67d1b4b73a"
      },
      "execution_count": 23,
      "outputs": [
        {
          "output_type": "stream",
          "name": "stdout",
          "text": [
            "enter a number:17\n",
            "number is positive\n"
          ]
        }
      ]
    },
    {
      "cell_type": "code",
      "source": [
        "for i in range(1,11):\n",
        "  print(i)"
      ],
      "metadata": {
        "colab": {
          "base_uri": "https://localhost:8080/"
        },
        "id": "JElLXDxhgHui",
        "outputId": "9217f945-277e-44ea-9f3e-83d961731bef"
      },
      "execution_count": 24,
      "outputs": [
        {
          "output_type": "stream",
          "name": "stdout",
          "text": [
            "1\n",
            "2\n",
            "3\n",
            "4\n",
            "5\n",
            "6\n",
            "7\n",
            "8\n",
            "9\n",
            "10\n"
          ]
        }
      ]
    },
    {
      "cell_type": "code",
      "source": [
        "for i in range(1,51):\n",
        "  if i%2==0:\n",
        "    print(i)"
      ],
      "metadata": {
        "colab": {
          "base_uri": "https://localhost:8080/"
        },
        "id": "ldUABsEEgTH4",
        "outputId": "4ceee919-d03d-4609-db94-009caa5a0a3c"
      },
      "execution_count": 25,
      "outputs": [
        {
          "output_type": "stream",
          "name": "stdout",
          "text": [
            "2\n",
            "4\n",
            "6\n",
            "8\n",
            "10\n",
            "12\n",
            "14\n",
            "16\n",
            "18\n",
            "20\n",
            "22\n",
            "24\n",
            "26\n",
            "28\n",
            "30\n",
            "32\n",
            "34\n",
            "36\n",
            "38\n",
            "40\n",
            "42\n",
            "44\n",
            "46\n",
            "48\n",
            "50\n"
          ]
        }
      ]
    },
    {
      "cell_type": "code",
      "source": [
        "reverse = input(\"enter a string: \")\n",
        "while reverse:\n",
        "  print(reverse[-1])\n",
        "  reverse = reverse[:-1]\n",
        ""
      ],
      "metadata": {
        "colab": {
          "base_uri": "https://localhost:8080/"
        },
        "id": "SpGySBFugoFh",
        "outputId": "144e8a26-44b3-4dd3-88e9-aaaa71f58453"
      },
      "execution_count": 26,
      "outputs": [
        {
          "output_type": "stream",
          "name": "stdout",
          "text": [
            "enter a string: ajay\n",
            "y\n",
            "a\n",
            "j\n",
            "a\n"
          ]
        }
      ]
    },
    {
      "cell_type": "code",
      "source": [
        "num = int(input(\"enter a number: \"))\n",
        "factorial = 1\n",
        "while num > 0:\n",
        "   factorial *= num\n",
        "   num -=1\n",
        "   print(factorial)\n"
      ],
      "metadata": {
        "colab": {
          "base_uri": "https://localhost:8080/"
        },
        "id": "q8UC3CAyhAt5",
        "outputId": "75616abe-4188-4ac4-c7c4-175f72b275c4"
      },
      "execution_count": 28,
      "outputs": [
        {
          "output_type": "stream",
          "name": "stdout",
          "text": [
            "enter a number: 6\n",
            "6\n",
            "30\n",
            "120\n",
            "360\n",
            "720\n",
            "720\n"
          ]
        }
      ]
    }
  ]
}