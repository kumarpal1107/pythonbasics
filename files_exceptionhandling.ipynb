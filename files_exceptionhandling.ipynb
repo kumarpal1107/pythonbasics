{
  "nbformat": 4,
  "nbformat_minor": 0,
  "metadata": {
    "colab": {
      "provenance": [],
      "authorship_tag": "ABX9TyMQVnd+27m4c8q1dsOz70Zq",
      "include_colab_link": true
    },
    "kernelspec": {
      "name": "python3",
      "display_name": "Python 3"
    },
    "language_info": {
      "name": "python"
    }
  },
  "cells": [
    {
      "cell_type": "markdown",
      "metadata": {
        "id": "view-in-github",
        "colab_type": "text"
      },
      "source": [
        "<a href=\"https://colab.research.google.com/github/kumarpal1107/pythonbasics/blob/main/files_exceptionhandling.ipynb\" target=\"_parent\"><img src=\"https://colab.research.google.com/assets/colab-badge.svg\" alt=\"Open In Colab\"/></a>"
      ]
    },
    {
      "cell_type": "code",
      "execution_count": null,
      "metadata": {
        "id": "Nyyp8SCJqxa-"
      },
      "outputs": [],
      "source": [
        "1)\n",
        "Difference between Interpreted and Compiled Languages:\n",
        "\n",
        "Execution – Compiled languages translate the entire code into machine code before execution, while interpreted languages translate and execute code line by line.\n",
        "\n",
        "Speed – Compiled languages are generally faster, whereas interpreted languages are slower due to real-time translation.\n",
        "\n",
        "Portability – Interpreted languages are more portable across platforms, compiled languages need recompilation for each platform.\n",
        "\n",
        "Examples – Compiled: C, C++ | Interpreted: Python, JavaScript."
      ]
    },
    {
      "cell_type": "code",
      "source": [
        "2)\n",
        "Exception handling in Python is a mechanism to manage runtime errors by using 'try', 'except', 'else', and 'finally' blocks, allowing the program to handle unexpected situations gracefully without crashing, and ensuring proper cleanup or alternative actions when errors occur."
      ],
      "metadata": {
        "id": "Pr5bBY-Pq2B_"
      },
      "execution_count": null,
      "outputs": []
    },
    {
      "cell_type": "code",
      "source": [
        "3)\n",
        "The 'finally' block in Python exception handling is used to define code that will run regardless of whether an exception occurs or not, typically for cleanup tasks like closing files, releasing resources, or resetting states."
      ],
      "metadata": {
        "id": "YA5BTrz-q53u"
      },
      "execution_count": null,
      "outputs": []
    },
    {
      "cell_type": "code",
      "source": [
        "4)\n",
        "Logging in Python is the process of recording events, errors, and informational messages during a program’s execution using the built-in logging module, which helps in debugging, monitoring, and maintaining applications without interrupting their flow."
      ],
      "metadata": {
        "id": "Vh76QyTHq9oD"
      },
      "execution_count": null,
      "outputs": []
    },
    {
      "cell_type": "code",
      "source": [
        "5)\n",
        "The __del__ method in Python is a destructor that is automatically called when an object is about to be destroyed, typically used to release resources or perform cleanup tasks before the object is removed from memory."
      ],
      "metadata": {
        "id": "Y6INidJbrB4L"
      },
      "execution_count": null,
      "outputs": []
    },
    {
      "cell_type": "code",
      "source": [
        "6)\n",
        "import – Imports the entire module, and you access its functions or variables using the module name as a prefix (e.g., math.sqrt()).\n",
        "from ... import – Imports specific functions, classes, or variables from a module, allowing you to use them directly without the module prefix (e.g., sqrt() instead of math.sqrt())."
      ],
      "metadata": {
        "id": "-LkqYWhdrFZP"
      },
      "execution_count": null,
      "outputs": []
    },
    {
      "cell_type": "code",
      "source": [
        "7)\n",
        "Using multiple except blocks – One for each exception type.\n",
        "Catching multiple exceptions in a single block – By grouping them in parentheses, e.g., except (TypeError, ValueError):."
      ],
      "metadata": {
        "id": "24qIV_YurJ4o"
      },
      "execution_count": null,
      "outputs": []
    },
    {
      "cell_type": "code",
      "source": [
        "8)The with statement in Python is used for automatic resource management when working with files, ensuring that the file is properly closed after its block of code is executed, even if an exception occurs."
      ],
      "metadata": {
        "id": "2dXs_2DYrRDf"
      },
      "execution_count": null,
      "outputs": []
    },
    {
      "cell_type": "code",
      "source": [
        "9)Multithreading – Runs multiple threads within the same process, sharing the same memory space; best for I/O-bound tasks but limited by Python’s GIL for CPU-bound tasks.\n",
        "Multiprocessing – Runs multiple processes with separate memory spaces, allowing true parallelism and better performance for CPU-bound tasks."
      ],
      "metadata": {
        "id": "AqMnAw9HrVoi"
      },
      "execution_count": null,
      "outputs": []
    },
    {
      "cell_type": "code",
      "source": [
        "10)\n",
        "Provides a record of events for debugging and analysis.\n",
        "Allows different log levels (INFO, WARNING, ERROR, etc.) for better control.\n",
        "Helps monitor program execution without interrupting it.\n",
        "Can store logs in files for future reference."
      ],
      "metadata": {
        "id": "VLnTWm3grctp"
      },
      "execution_count": null,
      "outputs": []
    },
    {
      "cell_type": "code",
      "source": [
        "11)\n",
        "Memory management in Python is the process of allocating and releasing memory for objects automatically using a built-in garbage collector and a private heap space, ensuring efficient use of memory and cleanup of unused objects."
      ],
      "metadata": {
        "id": "tRKsQb_crjn-"
      },
      "execution_count": null,
      "outputs": []
    },
    {
      "cell_type": "code",
      "source": [
        "12)\n",
        "Wrap risky code in a try block to monitor for errors.\n",
        "Use except block(s) to catch and handle specific or general exceptions."
      ],
      "metadata": {
        "id": "meVqUr3Rrn3M"
      },
      "execution_count": null,
      "outputs": []
    },
    {
      "cell_type": "code",
      "source": [
        "13)\n",
        "Memory management is important in Python because it ensures efficient use of system resources, prevents memory leaks, improves program performance, and maintains stability by automatically cleaning up unused objects through garbage collection."
      ],
      "metadata": {
        "id": "iWHexPtSrugY"
      },
      "execution_count": null,
      "outputs": []
    },
    {
      "cell_type": "code",
      "source": [
        "14)\n",
        "In Python exception handling, the try block contains code that may raise an error, while the except block catches and handles the error, preventing the program from crashing and allowing alternative actions to be taken."
      ],
      "metadata": {
        "id": "AJBWF_4jryxl"
      },
      "execution_count": null,
      "outputs": []
    },
    {
      "cell_type": "code",
      "source": [
        "15)\n",
        "Python’s garbage collection system works by automatically reclaiming memory from objects that are no longer referenced, primarily using reference counting and a cyclic garbage collector to detect and clean up unused objects involved in reference cycles."
      ],
      "metadata": {
        "id": "Ny7-CaMAr3M8"
      },
      "execution_count": null,
      "outputs": []
    },
    {
      "cell_type": "code",
      "source": [
        "16)\n",
        "The else block in Python exception handling is used to define code that runs only if no exceptions occur in the try block, keeping normal execution code separate from error-handling code."
      ],
      "metadata": {
        "id": "mRPx1vb5r7i7"
      },
      "execution_count": null,
      "outputs": []
    },
    {
      "cell_type": "code",
      "source": [
        "17\n",
        "DEBUG – Detailed diagnostic information for debugging.\n",
        "INFO – General information about program execution.\n",
        "WARNING – Indication of potential problems.\n",
        "ERROR – Serious issues that prevent part of the program from running.\n",
        "CRITICAL – Severe errors that may cause the program to stop."
      ],
      "metadata": {
        "id": "KO2O6XYUr_-I"
      },
      "execution_count": null,
      "outputs": []
    },
    {
      "cell_type": "code",
      "source": [
        "18)\n",
        "os.fork() – Creates a child process by duplicating the current process (Unix/Linux only), offering low-level control but requiring manual handling of communication and synchronization.\n",
        "multiprocessing – A high-level Python module that works cross-platform, providing an easy API to create and manage separate processes with built-in communication and synchronization tools."
      ],
      "metadata": {
        "id": "vZOZf1pjsHFl"
      },
      "execution_count": null,
      "outputs": []
    },
    {
      "cell_type": "code",
      "source": [
        "19)\n",
        "Closing a file in Python is important because it frees up system resources, ensures that all buffered data is written to disk, and prevents file corruption or data loss."
      ],
      "metadata": {
        "id": "OHNWLvjksLsP"
      },
      "execution_count": null,
      "outputs": []
    },
    {
      "cell_type": "code",
      "source": [
        "20)\n",
        "file.read() – Reads the entire file (or a specified number of bytes) into a single string.\n",
        "file.readline() – Reads only one line from the file at a time, including the newline character."
      ],
      "metadata": {
        "id": "fesUCmGisRSs"
      },
      "execution_count": null,
      "outputs": []
    },
    {
      "cell_type": "code",
      "source": [
        "21)\n",
        "The logging module in Python is used to record messages about a program’s execution—such as debug info, warnings, and errors—allowing developers to monitor, troubleshoot, and analyze the program without interrupting its flow."
      ],
      "metadata": {
        "id": "Cz0m-s19sU88"
      },
      "execution_count": null,
      "outputs": []
    },
    {
      "cell_type": "code",
      "source": [
        "22)\n",
        "The os module in Python is used for interacting with the operating system, enabling file handling tasks like creating, deleting, renaming, and navigating directories, as well as retrieving file metadata."
      ],
      "metadata": {
        "id": "TuSHBfOoseob"
      },
      "execution_count": null,
      "outputs": []
    },
    {
      "cell_type": "code",
      "source": [
        "23)\n",
        "Challenges in Python memory management include handling reference cycles, avoiding memory leaks from lingering references, managing memory for large datasets efficiently, and minimizing overhead from Python’s dynamic object allocation."
      ],
      "metadata": {
        "id": "pYSSu8R0sjr_"
      },
      "execution_count": null,
      "outputs": []
    },
    {
      "cell_type": "code",
      "source": [
        "24)\n",
        "You can raise an exception manually in Python using the raise keyword followed by an exception class, e.g.,\n",
        "\n",
        "raise ValueError(\"Invalid input\")\n",
        "This stops normal execution and triggers the specified exception."
      ],
      "metadata": {
        "id": "tdb517Wwsnhu"
      },
      "execution_count": null,
      "outputs": []
    },
    {
      "cell_type": "code",
      "source": [],
      "metadata": {
        "id": "HmvHZrmhsrvK"
      },
      "execution_count": null,
      "outputs": []
    },
    {
      "cell_type": "code",
      "source": [
        "# practical questions"
      ],
      "metadata": {
        "id": "DvaVl60NtE-b"
      },
      "execution_count": null,
      "outputs": []
    },
    {
      "cell_type": "code",
      "source": [
        "#1\n",
        "with open(\"file.txt\", \"w\") as f:\n",
        "    f.write(\"Hello, Python!\")"
      ],
      "metadata": {
        "id": "bjGoSyj8tHbd"
      },
      "execution_count": null,
      "outputs": []
    },
    {
      "cell_type": "code",
      "source": [
        "#2\n",
        "with open(\"file.txt\", \"r\") as f:\n",
        "    for line in f:\n",
        "        print(line.strip())"
      ],
      "metadata": {
        "colab": {
          "base_uri": "https://localhost:8080/"
        },
        "id": "HIJDsddytOus",
        "outputId": "55f2bbc5-1d3d-4e34-b35f-502e1fb7e332"
      },
      "execution_count": null,
      "outputs": [
        {
          "output_type": "stream",
          "name": "stdout",
          "text": [
            "Hello, Python!\n"
          ]
        }
      ]
    },
    {
      "cell_type": "code",
      "source": [
        "#3\n",
        "try:\n",
        "    with open(\"file2.txt\", \"r\") as f:\n",
        "        print(f.read())\n",
        "except FileNotFoundError:\n",
        "    print(\"The file does not exist.\")"
      ],
      "metadata": {
        "colab": {
          "base_uri": "https://localhost:8080/"
        },
        "id": "EpVREe9JtUPp",
        "outputId": "a3075b9d-b427-4cfb-e4fe-c8dd9013a941"
      },
      "execution_count": null,
      "outputs": [
        {
          "output_type": "stream",
          "name": "stdout",
          "text": [
            "The file does not exist.\n"
          ]
        }
      ]
    },
    {
      "cell_type": "code",
      "source": [
        "#4\n",
        "with open(\"file.txt\", \"r\") as fl, open(\"destination.txt\", \"w\") as dest:\n",
        "    dest.write(fl.read())"
      ],
      "metadata": {
        "id": "w-vURijLtYtw"
      },
      "execution_count": null,
      "outputs": []
    },
    {
      "cell_type": "code",
      "source": [
        "#5\n",
        "try:\n",
        "    result = 10 / 0\n",
        "except ZeroDivisionError:\n",
        "    print(\"Error: Cannot divide by zero.\")"
      ],
      "metadata": {
        "colab": {
          "base_uri": "https://localhost:8080/"
        },
        "id": "C8hMY6Xntc5R",
        "outputId": "f7da4df1-559c-41c0-ebc0-b632cadc19f5"
      },
      "execution_count": null,
      "outputs": [
        {
          "output_type": "stream",
          "name": "stdout",
          "text": [
            "Error: Cannot divide by zero.\n"
          ]
        }
      ]
    },
    {
      "cell_type": "code",
      "source": [
        "#6\n",
        "import logging\n",
        "\n",
        "# Configure logging to write to a file\n",
        "logging.basicConfig(filename=\"error.log\", level=logging.ERROR)\n",
        "\n",
        "try:\n",
        "    result = 10 / 0\n",
        "except ZeroDivisionError as e:\n",
        "    logging.error(f\"Division by zero error: {e}\")"
      ],
      "metadata": {
        "colab": {
          "base_uri": "https://localhost:8080/"
        },
        "id": "lwLLvBZYti61",
        "outputId": "810b977d-7303-4381-ddab-559bd2213416"
      },
      "execution_count": null,
      "outputs": [
        {
          "output_type": "stream",
          "name": "stderr",
          "text": [
            "ERROR:root:Division by zero error: division by zero\n"
          ]
        }
      ]
    },
    {
      "cell_type": "code",
      "source": [
        "#7\n",
        "import logging\n",
        "\n",
        "logging.basicConfig(level=logging.DEBUG)\n",
        "\n",
        "logging.info(\"This is an INFO message.\")\n",
        "logging.warning(\"This is a WARNING message.\")\n",
        "logging.error(\"This is an ERROR message.\")"
      ],
      "metadata": {
        "colab": {
          "base_uri": "https://localhost:8080/"
        },
        "id": "PZncrLgstp57",
        "outputId": "0459a91d-f578-405f-8ddd-8345ee343e7f"
      },
      "execution_count": null,
      "outputs": [
        {
          "output_type": "stream",
          "name": "stderr",
          "text": [
            "WARNING:root:This is a WARNING message.\n",
            "ERROR:root:This is an ERROR message.\n"
          ]
        }
      ]
    },
    {
      "cell_type": "code",
      "source": [
        "#8\n",
        "try:\n",
        "    with open(\"myfile.txt\", \"r\") as f:\n",
        "        content = f.read()\n",
        "        print(content)\n",
        "except FileNotFoundError:\n",
        "    print(\"Error: The file does not exist.\")"
      ],
      "metadata": {
        "colab": {
          "base_uri": "https://localhost:8080/"
        },
        "id": "L348J1pCtujx",
        "outputId": "8999b27c-8300-42d5-94e9-5313fd357140"
      },
      "execution_count": null,
      "outputs": [
        {
          "output_type": "stream",
          "name": "stdout",
          "text": [
            "Error: The file does not exist.\n"
          ]
        }
      ]
    },
    {
      "cell_type": "code",
      "source": [
        "#9\n",
        "with open(\"file.txt\", \"r\") as f:\n",
        "    lines = f.readlines()\n",
        "\n",
        "print(lines)\n",
        "\n",
        "#stores in a list:\n",
        "with open(\"file.txt\", \"r\") as f:\n",
        "    lines = [line.strip() for line in f]"
      ],
      "metadata": {
        "colab": {
          "base_uri": "https://localhost:8080/"
        },
        "id": "OFa62w1bt3Kp",
        "outputId": "0d70772c-9d2a-488c-81bd-4c6bf4c576e8"
      },
      "execution_count": null,
      "outputs": [
        {
          "output_type": "stream",
          "name": "stdout",
          "text": [
            "['Hello, Python!']\n"
          ]
        }
      ]
    },
    {
      "cell_type": "code",
      "source": [
        "#10\n",
        "with open(\"file.txt\", \"a\") as f:\n",
        "    f.write(\"\\nThis is new appended text.\")"
      ],
      "metadata": {
        "id": "L5D6Tmilt49T"
      },
      "execution_count": null,
      "outputs": []
    },
    {
      "cell_type": "code",
      "source": [
        "#11\n",
        "data = {\"name\": \"Alice\", \"age\": 25}\n",
        "\n",
        "try:\n",
        "    print(data[\"city\"])\n",
        "except KeyError:\n",
        "    print(\"Error: The key does not exist in the dictionary.\")"
      ],
      "metadata": {
        "colab": {
          "base_uri": "https://localhost:8080/"
        },
        "id": "Mm6AZbUkt8tv",
        "outputId": "7128ddf2-7c89-4a0a-a1a3-c61c343b3400"
      },
      "execution_count": null,
      "outputs": [
        {
          "output_type": "stream",
          "name": "stdout",
          "text": [
            "Error: The key does not exist in the dictionary.\n"
          ]
        }
      ]
    },
    {
      "cell_type": "code",
      "source": [
        "#12\n",
        "try:\n",
        "    num = int(input(\"Enter a number: \"))\n",
        "    result = 10 / num\n",
        "    print(\"Result:\", result)\n",
        "except ValueError:\n",
        "    print(\"Error: Invalid input. Please enter a number.\")\n",
        "except ZeroDivisionError:\n",
        "    print(\"Error: Cannot divide by zero.\")"
      ],
      "metadata": {
        "colab": {
          "base_uri": "https://localhost:8080/"
        },
        "id": "JMHcx3UvuB6S",
        "outputId": "4d2adfdd-4bc8-4a11-84d9-91d4d8da0440"
      },
      "execution_count": null,
      "outputs": [
        {
          "output_type": "stream",
          "name": "stdout",
          "text": [
            "Enter a number: 12\n",
            "Result: 0.8333333333333334\n"
          ]
        }
      ]
    },
    {
      "cell_type": "code",
      "source": [
        "#13\n",
        "import os\n",
        "\n",
        "if os.path.exists(\"file.txt\"):\n",
        "    with open(\"file.txt\", \"r\") as f:\n",
        "        print(f.read())\n",
        "else:\n",
        "    print(\"File does not exist.\")"
      ],
      "metadata": {
        "colab": {
          "base_uri": "https://localhost:8080/"
        },
        "id": "SaZ-dtYfuNHm",
        "outputId": "af02bc8f-d584-4be6-91d5-e57ac9755698"
      },
      "execution_count": null,
      "outputs": [
        {
          "output_type": "stream",
          "name": "stdout",
          "text": [
            "Hello, Python!\n",
            "This is new appended text.\n"
          ]
        }
      ]
    },
    {
      "cell_type": "code",
      "source": [
        "#14\n",
        "\n",
        "import logging\n",
        "\n",
        "logging.basicConfig(\n",
        "    level=logging.DEBUG,\n",
        "    format=\"%(levelname)s: %(message)s\"\n",
        ")\n",
        "\n",
        "logging.info(\"Program started successfully.\")\n",
        "try:\n",
        "    result = 10 / 0\n",
        "except ZeroDivisionError as e:\n",
        "    logging.error(f\"An error occurred: {e}\")"
      ],
      "metadata": {
        "colab": {
          "base_uri": "https://localhost:8080/"
        },
        "id": "hhObQrsJuQJN",
        "outputId": "ec83c90b-77f0-4758-a38b-4d28e62e8ce9"
      },
      "execution_count": null,
      "outputs": [
        {
          "output_type": "stream",
          "name": "stderr",
          "text": [
            "ERROR:root:An error occurred: division by zero\n"
          ]
        }
      ]
    },
    {
      "cell_type": "code",
      "source": [
        "#15\n",
        "try:\n",
        "    with open(\"file.txt\", \"r\") as f:\n",
        "        content = f.read()\n",
        "        if content.strip():  # Check if not empty after removing spaces/newlines\n",
        "            print(content)\n",
        "        else:\n",
        "            print(\"The file is empty.\")\n",
        "except FileNotFoundError:\n",
        "    print(\"Error: File not found.\")"
      ],
      "metadata": {
        "colab": {
          "base_uri": "https://localhost:8080/"
        },
        "id": "ezlAaQdwuVNG",
        "outputId": "74776053-bf2d-4be8-cbc4-c909890ecfea"
      },
      "execution_count": null,
      "outputs": [
        {
          "output_type": "stream",
          "name": "stdout",
          "text": [
            "Hello, Python!\n",
            "This is new appended text.\n"
          ]
        }
      ]
    },
    {
      "cell_type": "code",
      "source": [
        "#16\n",
        "from memory_profiler import profile\n",
        "\n",
        "@profile\n",
        "def my_program():\n",
        "    data = [i for i in range(100000)]\n",
        "    total = sum(data)\n",
        "    print(\"Sum:\", total)\n",
        "\n",
        "if __name__ == \"__main__\":\n",
        "    my_program()"
      ],
      "metadata": {
        "colab": {
          "base_uri": "https://localhost:8080/",
          "height": 558
        },
        "id": "nTXdu_uEufYu",
        "outputId": "3f42d219-4c3b-4b12-9a73-372a10339302"
      },
      "execution_count": null,
      "outputs": [
        {
          "output_type": "error",
          "ename": "ModuleNotFoundError",
          "evalue": "No module named 'memory_profiler'",
          "traceback": [
            "\u001b[0;31m---------------------------------------------------------------------------\u001b[0m",
            "\u001b[0;31mModuleNotFoundError\u001b[0m                       Traceback (most recent call last)",
            "\u001b[0;32m/tmp/ipython-input-291498129.py\u001b[0m in \u001b[0;36m<cell line: 0>\u001b[0;34m()\u001b[0m\n\u001b[1;32m      1\u001b[0m \u001b[0;31m#16\u001b[0m\u001b[0;34m\u001b[0m\u001b[0;34m\u001b[0m\u001b[0m\n\u001b[0;32m----> 2\u001b[0;31m \u001b[0;32mfrom\u001b[0m \u001b[0mmemory_profiler\u001b[0m \u001b[0;32mimport\u001b[0m \u001b[0mprofile\u001b[0m\u001b[0;34m\u001b[0m\u001b[0;34m\u001b[0m\u001b[0m\n\u001b[0m\u001b[1;32m      3\u001b[0m \u001b[0;34m\u001b[0m\u001b[0m\n\u001b[1;32m      4\u001b[0m \u001b[0;34m@\u001b[0m\u001b[0mprofile\u001b[0m\u001b[0;34m\u001b[0m\u001b[0;34m\u001b[0m\u001b[0m\n\u001b[1;32m      5\u001b[0m \u001b[0;32mdef\u001b[0m \u001b[0mmy_program\u001b[0m\u001b[0;34m(\u001b[0m\u001b[0;34m)\u001b[0m\u001b[0;34m:\u001b[0m\u001b[0;34m\u001b[0m\u001b[0;34m\u001b[0m\u001b[0m\n",
            "\u001b[0;31mModuleNotFoundError\u001b[0m: No module named 'memory_profiler'",
            "",
            "\u001b[0;31m---------------------------------------------------------------------------\u001b[0;32m\nNOTE: If your import is failing due to a missing package, you can\nmanually install dependencies using either !pip or !apt.\n\nTo view examples of installing some common dependencies, click the\n\"Open Examples\" button below.\n\u001b[0;31m---------------------------------------------------------------------------\u001b[0m\n"
          ],
          "errorDetails": {
            "actions": [
              {
                "action": "open_url",
                "actionText": "Open Examples",
                "url": "/notebooks/snippets/importing_libraries.ipynb"
              }
            ]
          }
        }
      ]
    },
    {
      "cell_type": "code",
      "source": [
        "#17\n",
        "numbers = [10, 20, 30, 40, 50]\n",
        "\n",
        "with open(\"numbers.txt\", \"w\") as f:\n",
        "    for num in numbers:\n",
        "        f.write(str(num) + \"\\n\")"
      ],
      "metadata": {
        "id": "ABl4TiP-ukKJ"
      },
      "execution_count": null,
      "outputs": []
    },
    {
      "cell_type": "code",
      "source": [
        "#18\n",
        "import logging\n",
        "from logging.handlers import RotatingFileHandler\n",
        "\n",
        "\n",
        "handler = RotatingFileHandler(\n",
        "    \"app.log\", maxBytes=1_000_000, backupCount=3\n",
        ")\n",
        "\n",
        "logging.basicConfig(\n",
        "    level=logging.INFO,\n",
        "    format=\"%(asctime)s - %(levelname)s - %(message)s\",\n",
        "    handlers=[handler]\n",
        ")\n",
        "\n",
        "\n",
        "for i in range(10000):\n",
        "    logging.info(f\"Log entry {i}\")"
      ],
      "metadata": {
        "id": "4wNUUz3Vutf-"
      },
      "execution_count": null,
      "outputs": []
    },
    {
      "cell_type": "code",
      "source": [
        "#19\n",
        "data_list = [1, 2, 3]\n",
        "data_dict = {\"name\": \"Alice\"}\n",
        "\n",
        "try:\n",
        "    print(data_list[5])       # Will cause IndexError\n",
        "    print(data_dict[\"age\"])   # Will cause KeyError\n",
        "except IndexError:\n",
        "    print(\"Error: List index out of range.\")\n",
        "except KeyError:\n",
        "    print(\"Error: Key not found in dictionary.\")"
      ],
      "metadata": {
        "colab": {
          "base_uri": "https://localhost:8080/"
        },
        "id": "8PAotfvTu1_p",
        "outputId": "75a0653c-c922-42aa-9220-27cc31be4250"
      },
      "execution_count": null,
      "outputs": [
        {
          "output_type": "stream",
          "name": "stdout",
          "text": [
            "Error: List index out of range.\n"
          ]
        }
      ]
    },
    {
      "cell_type": "code",
      "source": [
        "#20\n",
        "with open(\"file.txt\", \"r\") as f:\n",
        "    content = f.read()\n",
        "    print(content)"
      ],
      "metadata": {
        "colab": {
          "base_uri": "https://localhost:8080/"
        },
        "id": "rXmbg30fu-9C",
        "outputId": "8055c22c-2ef6-41c7-de72-8767ba197d23"
      },
      "execution_count": null,
      "outputs": [
        {
          "output_type": "stream",
          "name": "stdout",
          "text": [
            "Hello, Python!\n",
            "This is new appended text.\n"
          ]
        }
      ]
    },
    {
      "cell_type": "code",
      "source": [
        "#21\n",
        "word_to_count = \"python\"\n",
        "\n",
        "with open(\"file.txt\", \"r\") as f:\n",
        "    content = f.read().lower()\n",
        "    count = content.count(word_to_count.lower())\n",
        "\n",
        "print(f\"The word '{word_to_count}' occurs {count} times.\")"
      ],
      "metadata": {
        "colab": {
          "base_uri": "https://localhost:8080/"
        },
        "id": "0omxiYy-vAxD",
        "outputId": "24170d00-4e13-4dd3-8e4e-67a10c03610d"
      },
      "execution_count": null,
      "outputs": [
        {
          "output_type": "stream",
          "name": "stdout",
          "text": [
            "The word 'python' occurs 1 times.\n"
          ]
        }
      ]
    },
    {
      "cell_type": "code",
      "source": [
        "#22\n",
        "import os\n",
        "\n",
        "file_path = \"file.txt\"\n",
        "\n",
        "if os.path.exists(file_path) and os.path.getsize(file_path) > 0:\n",
        "    with open(file_path, \"r\") as f:\n",
        "        print(f.read())\n",
        "else:\n",
        "    print(\"The file is empty or does not exist.\")"
      ],
      "metadata": {
        "colab": {
          "base_uri": "https://localhost:8080/"
        },
        "id": "3ZU0JbXwvEZf",
        "outputId": "3ead7222-8f81-44bd-9023-87f49d41a46b"
      },
      "execution_count": null,
      "outputs": [
        {
          "output_type": "stream",
          "name": "stdout",
          "text": [
            "Hello, Python!\n",
            "This is new appended text.\n"
          ]
        }
      ]
    },
    {
      "cell_type": "code",
      "source": [
        "#23\n",
        "\n",
        "import logging\n",
        "\n",
        "# Configure logging to write to a file\n",
        "logging.basicConfig(filename=\"file_errors.log\", level=logging.ERROR,\n",
        "                    format=\"%(asctime)s - %(levelname)s - %(message)s\")\n",
        "\n",
        "try:\n",
        "    with open(\"nonexistent.txt\", \"r\") as f:\n",
        "        content = f.read()\n",
        "except FileNotFoundError as e:\n",
        "    logging.error(f\"File not found: {e}\")"
      ],
      "metadata": {
        "colab": {
          "base_uri": "https://localhost:8080/"
        },
        "id": "nYOKAfluvI0J",
        "outputId": "ebe5eb4b-b58d-4489-c3bb-c6bcdf0c251b"
      },
      "execution_count": null,
      "outputs": [
        {
          "output_type": "stream",
          "name": "stderr",
          "text": [
            "ERROR:root:File not found: [Errno 2] No such file or directory: 'nonexistent.txt'\n"
          ]
        }
      ]
    }
  ]
}