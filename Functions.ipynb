{
  "nbformat": 4,
  "nbformat_minor": 0,
  "metadata": {
    "colab": {
      "provenance": [],
      "authorship_tag": "ABX9TyPZZdGnncIFAv7Nu4EGgc7R",
      "include_colab_link": true
    },
    "kernelspec": {
      "name": "python3",
      "display_name": "Python 3"
    },
    "language_info": {
      "name": "python"
    }
  },
  "cells": [
    {
      "cell_type": "markdown",
      "metadata": {
        "id": "view-in-github",
        "colab_type": "text"
      },
      "source": [
        "<a href=\"https://colab.research.google.com/github/kumarpal1107/pythonbasics/blob/main/Functions.ipynb\" target=\"_parent\"><img src=\"https://colab.research.google.com/assets/colab-badge.svg\" alt=\"Open In Colab\"/></a>"
      ]
    },
    {
      "cell_type": "code",
      "execution_count": 43,
      "metadata": {
        "id": "ugNlBsutPaos",
        "colab": {
          "base_uri": "https://localhost:8080/",
          "height": 141
        },
        "outputId": "9988e68e-702c-4e65-98f4-ad2f628817d6"
      },
      "outputs": [
        {
          "output_type": "error",
          "ename": "SyntaxError",
          "evalue": "unmatched ')' (ipython-input-3362543596.py, line 2)",
          "traceback": [
            "\u001b[0;36m  File \u001b[0;32m\"/tmp/ipython-input-3362543596.py\"\u001b[0;36m, line \u001b[0;32m2\u001b[0m\n\u001b[0;31m    1)In Python, both functions and methods are blocks of reusable code designed to perform specific tasks, but their key distinction lies in their association with classes and objects.\u001b[0m\n\u001b[0m     ^\u001b[0m\n\u001b[0;31mSyntaxError\u001b[0m\u001b[0;31m:\u001b[0m unmatched ')'\n"
          ]
        }
      ],
      "source": [
        "# theory answers\n",
        "1)In Python, both functions and methods are blocks of reusable code designed to perform specific tasks, but their key distinction lies in their association with classes and objects.\n",
        "Function:\n",
        "A function is a standalone block of code that is defined independently and can be called directly by its name.\n",
        "It does not belong to any specific class or object.\n",
        "Functions typically operate on data passed to them as arguments and may return a value\n",
        "\n",
        "Method:\n",
        "A method is a function that is defined within a class and is associated with objects (instances) of that class.\n",
        "Methods are called on an object and implicitly receive the object itself (conventionally named self) as their first argument, allowing them to access and manipulate the object's attributes and other methods."
      ]
    },
    {
      "cell_type": "code",
      "source": [
        "2)Parameters: These are the variables defined within the parentheses of a function's definition. They act as placeholders for the values that the function expects to receive when it is called. Parameters define the type and number of inputs a function can accept.\n",
        "\n",
        "Arguments: These are the actual values that are passed to a function when it is called. These values are assigned to the corresponding parameters within the function's scope, allowing the function to operate on specific data."
      ],
      "metadata": {
        "id": "edhST77fQBtB"
      },
      "execution_count": null,
      "outputs": []
    },
    {
      "cell_type": "code",
      "source": [
        "3)Defining a Function:\n",
        "Functions are defined using the def keyword, followed by the function name, parentheses for parameters, and a colon. The function body is then indented.\n",
        "\n",
        "Calling a Function:\n",
        "Once defined, a function can be called (executed) by using its name followed by parentheses, enclosing any required arguments."
      ],
      "metadata": {
        "id": "YICWjOeqQWW1"
      },
      "execution_count": null,
      "outputs": []
    },
    {
      "cell_type": "code",
      "source": [
        "4)The primary purpose of the return statement in a Python function is to send a value or set of values back to the point in the code where the function was called. This allows the result of the function's computation to be used for further processing, assignment to variables, or as part of other expressions."
      ],
      "metadata": {
        "id": "7K7RrRrKQqNl"
      },
      "execution_count": null,
      "outputs": []
    },
    {
      "cell_type": "code",
      "source": [
        "5)An iterable is an object that can be iterated over, meaning you can loop through its elements one by one. Common examples of iterables include lists, tuples, strings, dictionaries, and sets. An iterable object implements the __iter__() method, which returns an iterator.\n",
        "An iterator is an object that represents a stream of data and provides a way to access the elements of an iterable one at a time."
      ],
      "metadata": {
        "id": "1_r-ghSaQ2d8"
      },
      "execution_count": null,
      "outputs": []
    },
    {
      "cell_type": "code",
      "source": [
        "6)Generators in Python are a special type of iterable that allow for lazy evaluation, meaning they produce values one at a time as needed, rather than generating and storing all values in memory simultaneously. This makes them highly memory-efficient, especially when dealing with large datasets or infinite sequences.\n",
        "Generators are defined similarly to regular functions but utilize the yield keyword instead of return. The presence of yield within a function's body automatically designates it as a generator function."
      ],
      "metadata": {
        "id": "U0v5dmKBRENE"
      },
      "execution_count": null,
      "outputs": []
    },
    {
      "cell_type": "code",
      "source": [
        "7) Memory Efficiency\n",
        "Handling Infinite Sequences"
      ],
      "metadata": {
        "id": "f88D8eNVRTFd"
      },
      "execution_count": null,
      "outputs": []
    },
    {
      "cell_type": "code",
      "source": [
        "8) A lambda function in Python is a small, anonymous function defined using the lambda keyword. Unlike regular functions defined with def, lambda functions do not have a name and are limited to a single expression."
      ],
      "metadata": {
        "id": "C3WkRK4gRmO7"
      },
      "execution_count": null,
      "outputs": []
    },
    {
      "cell_type": "code",
      "source": [
        "9)The map() function is used to apply a given function to every item of an iterable, such as a list or tuple, and returns a map object (which is an iterator)."
      ],
      "metadata": {
        "id": "vlgMo8ZiR1V2",
        "colab": {
          "base_uri": "https://localhost:8080/",
          "height": 124
        },
        "outputId": "d685508a-feb3-43fb-be34-6b95fe6b86b3"
      },
      "execution_count": 44,
      "outputs": [
        {
          "output_type": "error",
          "ename": "SyntaxError",
          "evalue": "unmatched ')' (ipython-input-769742786.py, line 1)",
          "traceback": [
            "\u001b[0;36m  File \u001b[0;32m\"/tmp/ipython-input-769742786.py\"\u001b[0;36m, line \u001b[0;32m1\u001b[0m\n\u001b[0;31m    9)The map() function is used to apply a given function to every item of an iterable, such as a list or tuple, and returns a map object (which is an iterator).\u001b[0m\n\u001b[0m     ^\u001b[0m\n\u001b[0;31mSyntaxError\u001b[0m\u001b[0;31m:\u001b[0m unmatched ')'\n"
          ]
        }
      ]
    },
    {
      "cell_type": "code",
      "source": [
        "10)The map () function returns a map object(which is an iterator) of the results after applying the given function to each item of a given iterable (list, tuple, etc.).\n",
        "\n",
        "The reduce function is used to apply a particular function passed in its argument to all of the list elements mentioned in the sequence passed along.This function is defined in “functools” module.\n",
        "\n",
        "The filter() method filters the given sequence with the help of a function that tests each element in the sequence to be true or not."
      ],
      "metadata": {
        "id": "a3_NnxkcSCgI"
      },
      "execution_count": null,
      "outputs": []
    },
    {
      "cell_type": "code",
      "source": [
        "#practical questions"
      ],
      "metadata": {
        "id": "S2UaDGmsSb5i"
      },
      "execution_count": null,
      "outputs": []
    },
    {
      "cell_type": "code",
      "source": [
        "def sum_even_numbers(numbers_list):\n",
        "  \"\"\"\n",
        "  calculates the sum of all even numbers in a list.\n",
        "\n",
        "  args:\n",
        "     numbers_list: a list of numbers (integers or floats).\n",
        "  return:\n",
        "     the sum of all the even numbers in the list.\n",
        "  \"\"\"\n",
        "  even_sum = 0\n",
        "  for number in numbers_list:\n",
        "    if number % 2 == 0:\n",
        "      even_sum += number\n",
        "  return even_sum"
      ],
      "metadata": {
        "id": "3iUkDjS5962Y"
      },
      "execution_count": null,
      "outputs": []
    },
    {
      "cell_type": "code",
      "source": [
        "def reverse_strin(input_string):\n",
        "  \"\"\"\n",
        "  reverses a given string.\n",
        "\n",
        "  args\n",
        "    input_string: the string to be reversed.\n",
        "  returns:\n",
        "    the reversed string.\n",
        "  \"\"\"\n",
        "  return input_string[::-1]"
      ],
      "metadata": {
        "id": "lDE6LRlu_t5k"
      },
      "execution_count": null,
      "outputs": []
    },
    {
      "cell_type": "code",
      "source": [
        "def square_numbers_for_loop(numbers):\n",
        "    squared_numbers = []\n",
        "    for num in numbers:\n",
        "      squared_numbers.append(num ** 2)\n",
        "      return squared_numbers"
      ],
      "metadata": {
        "id": "Dd2F_4haA-WF"
      },
      "execution_count": null,
      "outputs": []
    },
    {
      "cell_type": "code",
      "source": [
        "def is_prime(num):\n",
        "  \"\"\"\n",
        "  checks if a given numberis prime.\n",
        "\n",
        "  args:\n",
        "   num (int): the number to check.\n",
        "\n",
        "   returns:\n",
        "     bool: true if the number is prime, false otherwise.\n",
        "   \"\"\"\n",
        "  if  num <= 1:\n",
        "     return False\n",
        "\n",
        "  for i in range(2, int(num**0.5) +1):\n",
        "    if num % i ==0:\n",
        "      return false\n",
        "\n",
        "    return True\n",
        "    print(f\"{number} is not prime.\")"
      ],
      "metadata": {
        "id": "NhUzlXbuBg6Z"
      },
      "execution_count": null,
      "outputs": []
    },
    {
      "cell_type": "code",
      "source": [
        "def fib(n):\n",
        "  a = 0\n",
        "  b = 1\n",
        "  for i in range(n):\n",
        "      yield a\n",
        "      a, b = b, a+b"
      ],
      "metadata": {
        "id": "oBeFR6x7FREp"
      },
      "execution_count": 46,
      "outputs": []
    },
    {
      "cell_type": "code",
      "source": [
        "def powers_of_two_generator(max_exponent):\n",
        "  \"\"\"\n",
        "  yields powers of 2 from 2^0 up to 2^max_exponent.\n",
        "\n",
        "  args:\n",
        "       max_exponent (int): the maximum exponent for the powers of 2.\n",
        "                          must be a non-negative integer.\n",
        "  \"\"\"\n",
        "  if max_exponent < 0:\n",
        "      raise valueerror(\"nax_exponent must be a non negative integer.\")\n",
        "\n",
        "  for i in range(max_exponent + 1):\n",
        "    yield 2 ** i"
      ],
      "metadata": {
        "id": "vPdA3IToF11d"
      },
      "execution_count": 51,
      "outputs": []
    }
  ]
}