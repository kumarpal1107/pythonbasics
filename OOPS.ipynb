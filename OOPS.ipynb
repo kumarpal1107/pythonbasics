{
  "nbformat": 4,
  "nbformat_minor": 0,
  "metadata": {
    "colab": {
      "provenance": [],
      "authorship_tag": "ABX9TyM33I7m3wtSds5XImva0WdZ",
      "include_colab_link": true
    },
    "kernelspec": {
      "name": "python3",
      "display_name": "Python 3"
    },
    "language_info": {
      "name": "python"
    }
  },
  "cells": [
    {
      "cell_type": "markdown",
      "metadata": {
        "id": "view-in-github",
        "colab_type": "text"
      },
      "source": [
        "<a href=\"https://colab.research.google.com/github/kumarpal1107/pythonbasics/blob/main/OOPS.ipynb\" target=\"_parent\"><img src=\"https://colab.research.google.com/assets/colab-badge.svg\" alt=\"Open In Colab\"/></a>"
      ]
    },
    {
      "cell_type": "code",
      "execution_count": null,
      "metadata": {
        "id": "VV3MA_hrRsN2"
      },
      "outputs": [],
      "source": [
        "#theory questions"
      ]
    },
    {
      "cell_type": "code",
      "source": [
        "1)is a variable that is used in instance methods to refer to the object on which they are working"
      ],
      "metadata": {
        "id": "63xTg_kjRvVU"
      },
      "execution_count": null,
      "outputs": []
    },
    {
      "cell_type": "code",
      "source": [
        "2)a class is a blueprint or template for creating objects"
      ],
      "metadata": {
        "id": "2oPmk-odRw_-"
      },
      "execution_count": null,
      "outputs": []
    },
    {
      "cell_type": "code",
      "source": [
        "3)a self-contained entity that combines data (attributes) and the functions (methods) that operate on that data"
      ],
      "metadata": {
        "colab": {
          "base_uri": "https://localhost:8080/",
          "height": 176
        },
        "id": "V177Xz8HR-nV",
        "outputId": "e4e95a16-8480-4cef-f0cc-3c96779ef98b"
      },
      "execution_count": null,
      "outputs": [
        {
          "output_type": "error",
          "ename": "SyntaxError",
          "evalue": "unmatched ')' (ipython-input-2034041080.py, line 1)",
          "traceback": [
            "\u001b[0;36m  File \u001b[0;32m\"/tmp/ipython-input-2034041080.py\"\u001b[0;36m, line \u001b[0;32m1\u001b[0m\n\u001b[0;31m    3)a self-contained entity that combines data (attributes) and the functions (methods) that operate on that data\u001b[0m\n\u001b[0m     ^\u001b[0m\n\u001b[0;31mSyntaxError\u001b[0m\u001b[0;31m:\u001b[0m unmatched ')'\n"
          ]
        }
      ]
    },
    {
      "cell_type": "code",
      "source": [
        "4)Abstraction focuses on what an object does, while encapsulation focuses on how an object does it and protects its internal state. Abstraction simplifies complex systems by hiding unnecessary details and exposing only essential features. Encapsulation bundles data and methods together, controlling access to the data to maintain integrity and prevent misuse."
      ],
      "metadata": {
        "id": "64FitftBSG9h"
      },
      "execution_count": null,
      "outputs": []
    },
    {
      "cell_type": "code",
      "source": [
        "5)They are distinguished by their names, which begin and end with double underscores (e.g., __init__, __str__, __add__). These methods allow you to define how your custom objects interact with Python's built-in operations and functions."
      ],
      "metadata": {
        "id": "KUm29-jpSSIl"
      },
      "execution_count": null,
      "outputs": []
    },
    {
      "cell_type": "code",
      "source": [
        "6)Inheritance in Object-Oriented Programming (OOP) is a fundamental concept that allows a new class, known as the child class (or subclass, derived class), to inherit attributes (data) and methods (functions) from an existing class, called the parent class (or superclass, base class)."
      ],
      "metadata": {
        "id": "hkdnx14bSbe6"
      },
      "execution_count": null,
      "outputs": []
    },
    {
      "cell_type": "code",
      "source": [
        "7)Polymorphism in object-oriented programming (OOP) allows objects of different classes to be treated as objects of a common type, enabling code to be written in a flexible and reusable way."
      ],
      "metadata": {
        "id": "e53b_ftfSjoN"
      },
      "execution_count": null,
      "outputs": []
    },
    {
      "cell_type": "code",
      "source": [
        "8)Encapsulation in Python is achieved through conventions and name mangling, rather than strict access modifiers like public, private, or protected found in some other object-oriented languages."
      ],
      "metadata": {
        "id": "X9Sbcm_PS0uq"
      },
      "execution_count": null,
      "outputs": []
    },
    {
      "cell_type": "code",
      "source": [
        "9)In Python, a constructor is a special method within a class that is automatically invoked when a new object (instance) of that class is created. Its primary purpose is to initialize the attributes (data members) of the object and perform any necessary setup for the object's initial state."
      ],
      "metadata": {
        "id": "X2C0KuW1S83C"
      },
      "execution_count": null,
      "outputs": []
    },
    {
      "cell_type": "code",
      "source": [
        "10)In Python, both class methods and static methods are defined within a class but differ in their access to class and instance data, and how they are invoked."
      ],
      "metadata": {
        "id": "sI72iRUjTHaH"
      },
      "execution_count": null,
      "outputs": []
    },
    {
      "cell_type": "code",
      "source": [
        "11)Method overloading in Python refers to the concept where a single method name can be used to perform different actions based on the number or type of arguments passed to it."
      ],
      "metadata": {
        "id": "WZ6KoZiLTTFe"
      },
      "execution_count": null,
      "outputs": []
    },
    {
      "cell_type": "code",
      "source": [
        "12)Method overriding in object-oriented programming (OOP) is a feature that allows a subclass to provide a specific implementation of a method that is already defined in its parent class."
      ],
      "metadata": {
        "id": "sz5mz6xuToSC"
      },
      "execution_count": null,
      "outputs": []
    },
    {
      "cell_type": "code",
      "source": [
        "13)In Python, the @property decorator is a built-in decorator that allows you to define methods within a class that can be accessed like attributes. It provides a way to manage attribute access (getting, setting, and deleting) with controlled logic, without requiring the user of the class to call explicit getter and setter methods."
      ],
      "metadata": {
        "id": "vpZqYCKvTwJ2"
      },
      "execution_count": null,
      "outputs": []
    },
    {
      "cell_type": "code",
      "source": [
        "14) Polymorphism is crucial in object-oriented programming (OOP) because it enables code reusability, flexibility, and extensibility."
      ],
      "metadata": {
        "id": "msf8mO2LT5iN"
      },
      "execution_count": null,
      "outputs": []
    },
    {
      "cell_type": "code",
      "source": [
        "15)An abstract class in Python is a class that cannot be instantiated directly and serves as a blueprint or template for other classes. It is designed to be subclassed, and its primary purpose is to define a common interface that all its concrete (non-abstract) subclasses must implement."
      ],
      "metadata": {
        "id": "pDXENByYUL0h"
      },
      "execution_count": null,
      "outputs": []
    },
    {
      "cell_type": "code",
      "source": [
        "16)Object-Oriented Programming (OOP) offers several advantages, including improved code organization, reusability, maintainability, and scalability. It achieves this by breaking down complex problems into smaller, manageable objects that encapsulate data and behavior. This modular approach simplifies development, testing, and debugging processes."
      ],
      "metadata": {
        "id": "LzTzI6WWUSes"
      },
      "execution_count": null,
      "outputs": []
    },
    {
      "cell_type": "code",
      "source": [
        "17)Class Variable:\n",
        "Multiple inheritance in Python is a feature that allows a class to inherit attributes and methods from more than one parent class. This means a single child class can combine functionalities and characteristics from multiple distinct base classes.A class variable belongs to the class itself, not to any specific instance of the class. It is shared among all instances of that class.\n",
        "Storage:\n",
        "There is only one copy of a class variable in memory, regardless of how many instances of the class are created.\n",
        "Access:\n",
        "Class variables are typically accessed using the class name (e.g., ClassName.variable_name).\n",
        "\n",
        "\n",
        "Instance Variable:\n",
        "Scope:\n",
        "An instance variable belongs to a specific instance (object) of a class. Each object created from that class has its own independent copy of the instance variables.\n",
        "Storage:\n",
        "Each instance of the class has its own unique set of instance variables in memory.\n",
        "Access:\n",
        "Instance variables are accessed using an object of the class (e.g., object_name.variable_name)."
      ],
      "metadata": {
        "id": "y7bNiD5pUaZi"
      },
      "execution_count": null,
      "outputs": []
    },
    {
      "cell_type": "code",
      "source": [
        "18)Multiple inheritance in Python is a feature that allows a class to inherit attributes and methods from more than one parent class. This means a single child class can combine functionalities and characteristics from multiple distinct base classes."
      ],
      "metadata": {
        "id": "s06u6Iv7Usi4"
      },
      "execution_count": null,
      "outputs": []
    },
    {
      "cell_type": "code",
      "source": [
        "19)In Python, __str__ and __repr__ are special methods (also known as \"dunder methods\") used to define how an object is represented as a string. They serve different purposes and are intended for different audiences"
      ],
      "metadata": {
        "id": "GDpFblJHU4e9"
      },
      "execution_count": null,
      "outputs": []
    },
    {
      "cell_type": "code",
      "source": [
        "20)The super() function in Python holds significant importance in the context of object-oriented programming, particularly concerning inheritance. Its primary significance lies in providing a mechanism to access methods and attributes of a parent or superclass from a child or subclass."
      ],
      "metadata": {
        "id": "Obksziu6VAlY"
      },
      "execution_count": null,
      "outputs": []
    },
    {
      "cell_type": "code",
      "source": [
        "21)The __del__ method in Python serves as a destructor for objects. Its significance lies in providing a mechanism to perform cleanup operations when an object is about to be destroyed and its memory reclaimed by the garbage collector."
      ],
      "metadata": {
        "id": "PIGo7YHgVIfM"
      },
      "execution_count": null,
      "outputs": []
    },
    {
      "cell_type": "code",
      "source": [
        "22)@classmethod:\n",
        "Takes the class itself (cls) as its first implicit argument.\n",
        "Can access and modify class-level attributes and methods.\n",
        "Often used for \"factory methods\" that create instances of the class with specific configurations, or for operations that depend on the class's state\n",
        "\n",
        "staticmethod:\n",
        "Does not receive any implicit first argument (neither self for an instance nor cls for the class).\n",
        "Cannot access or modify class-level or instance-level attributes and methods directly.\n",
        "Essentially a regular function that is logically grouped within a class, but it operates independently of any class or instance state.\n",
        "Typically used for utility functions that belong conceptually to the class but don't require access to its internal state"
      ],
      "metadata": {
        "id": "Ve0bB06DVQtS"
      },
      "execution_count": null,
      "outputs": []
    },
    {
      "cell_type": "code",
      "source": [
        "23)Polymorphism in Python, particularly in the context of inheritance, primarily manifests through method overriding. This allows subclasses to provide their own specific implementations of methods that are already defined in their parent (superclass)."
      ],
      "metadata": {
        "id": "wyLexus5Vec-"
      },
      "execution_count": null,
      "outputs": []
    },
    {
      "cell_type": "code",
      "source": [
        "24)Method chaining in Python Object-Oriented Programming (OOP) is a technique that allows for the sequential invocation of multiple methods on the same object within a single line of code. This is achieved by having each method in the chain return the object itself (typically self) after performing its action."
      ],
      "metadata": {
        "id": "WPYnQs01VmJ1"
      },
      "execution_count": null,
      "outputs": []
    },
    {
      "cell_type": "code",
      "source": [
        "25)The __call__ method in Python allows instances of a class to be invoked or called as if they were regular functions. When this method is defined within a class, calling an object of that class (e.g., my_object()) automatically triggers the execution of the __call__ method."
      ],
      "metadata": {
        "id": "IuZhkwvxVtID"
      },
      "execution_count": null,
      "outputs": []
    },
    {
      "cell_type": "code",
      "source": [
        "#practical questions"
      ],
      "metadata": {
        "id": "F3xy2ZnJzhDl"
      },
      "execution_count": null,
      "outputs": []
    },
    {
      "cell_type": "code",
      "source": [
        "#1\n",
        "class Animal:\n",
        "    def speak(self):\n",
        "        print(\"Animal makes a sound.\")\n",
        "\n",
        "class Dog(Animal):\n",
        "    def speak(self):\n",
        "        print(\"Bark!\")\n",
        "\n",
        "a = Animal()\n",
        "a.speak()\n",
        "\n",
        "d = Dog()\n",
        "d.speak()"
      ],
      "metadata": {
        "colab": {
          "base_uri": "https://localhost:8080/"
        },
        "id": "yN2BRFJCzjQQ",
        "outputId": "4223ef3d-73a1-4e13-f777-dda62ff0e81d"
      },
      "execution_count": 1,
      "outputs": [
        {
          "output_type": "stream",
          "name": "stdout",
          "text": [
            "Animal makes a sound.\n",
            "Bark!\n"
          ]
        }
      ]
    },
    {
      "cell_type": "code",
      "source": [
        "#2\n",
        "from abc import ABC, abstractmethod\n",
        "import math\n",
        "\n",
        "class Shape(ABC):\n",
        "    @abstractmethod\n",
        "    def area(self):\n",
        "        pass\n",
        "\n",
        "class Circle(Shape):\n",
        "    def __init__(self, radius):\n",
        "        self.radius = radius\n",
        "\n",
        "    def area(self):\n",
        "        return math.pi*self.radius**2\n",
        "\n",
        "class Rectangle(Shape):\n",
        "    def __init__(self, width, height):\n",
        "        self.width = width\n",
        "        self.height = height\n",
        "\n",
        "    def area(self):\n",
        "        return self.width*self.height\n",
        "\n",
        "c = Circle(5)\n",
        "r = Rectangle(5,6)\n",
        "print(\"Circle area: \", c.area())\n",
        "print(\"Rectangle area: \", r.area())"
      ],
      "metadata": {
        "colab": {
          "base_uri": "https://localhost:8080/"
        },
        "id": "WEOzT7YAzoac",
        "outputId": "d71d8948-2566-456d-82e5-e4a28506bc8a"
      },
      "execution_count": 4,
      "outputs": [
        {
          "output_type": "stream",
          "name": "stdout",
          "text": [
            "Circle area:  78.53981633974483\n",
            "Rectangle area:  30\n"
          ]
        }
      ]
    },
    {
      "cell_type": "code",
      "source": [
        "#3\n",
        "class Vehicle:\n",
        "    def __init__(self, type):\n",
        "        self.type = type\n",
        "\n",
        "class Car(Vehicle):\n",
        "    def __init__(self, type, brand):\n",
        "        super().__init__(type)  # adds parent class's attribute\n",
        "        self.brand = brand      # Car adds it's own atribute\n",
        "\n",
        "class ElectricCar(Car):\n",
        "    def __init__(self, type, brand, battery):\n",
        "        super().__init__(type, brand)\n",
        "        self.battery = battery\n",
        "\n",
        "ecar = ElectricCar('4 wheeler', 'Tata Motor', '100KWh')\n",
        "print(ecar.type, ecar.brand, ecar.battery)"
      ],
      "metadata": {
        "colab": {
          "base_uri": "https://localhost:8080/"
        },
        "id": "hxg1HDcaz0gG",
        "outputId": "08d65cca-12c2-45dc-f435-433f08238cb2"
      },
      "execution_count": 5,
      "outputs": [
        {
          "output_type": "stream",
          "name": "stdout",
          "text": [
            "4 wheeler Tata Motor 100KWh\n"
          ]
        }
      ]
    },
    {
      "cell_type": "code",
      "source": [
        "#4\n",
        "class Bird:\n",
        "    def fly(self):\n",
        "        print(\"This bird can fly.\")\n",
        "\n",
        "class Sparrow(Bird):\n",
        "    def fly(self):\n",
        "        print(\"Sparrow is a small bird.\")\n",
        "\n",
        "class Penguine(Bird):\n",
        "    def fly(self):\n",
        "        print(\"Penguine can't fly.\")\n",
        "\n",
        "birds = [Sparrow(), Penguine()]\n",
        "for bird in birds:\n",
        "    bird.fly()"
      ],
      "metadata": {
        "colab": {
          "base_uri": "https://localhost:8080/"
        },
        "id": "jAuKb4NGz8IC",
        "outputId": "3c0a445f-5041-4ece-f0de-3fa9267a05eb"
      },
      "execution_count": 6,
      "outputs": [
        {
          "output_type": "stream",
          "name": "stdout",
          "text": [
            "Sparrow is a small bird.\n",
            "Penguine can't fly.\n"
          ]
        }
      ]
    },
    {
      "cell_type": "code",
      "source": [
        "#5\n",
        "class BankAccount:\n",
        "    def __init__(self, initial_balance=6000):\n",
        "        self.__balance = initial_balance   # Private attribute\n",
        "\n",
        "    def deposit(self, amount):\n",
        "        if amount > 0:\n",
        "            self.__balance += amount\n",
        "            print('Deposited :', amount,'\\nTotal Balance :', self.__balance)\n",
        "        else:\n",
        "            print('Please Enter some Amount.')\n",
        "\n",
        "    def withdraw(self, amount):\n",
        "        if 0 < amount <= self.__balance:\n",
        "            self.__balance -= amount\n",
        "            print('\\n\\nWithdrawn Amount :', amount)\n",
        "        else:\n",
        "            print(\"Insufficient balance or invalid amount.\")\n",
        "\n",
        "    def check_balance(self):\n",
        "        print('\\n\\nCurrent Balance :', self.__balance)\n",
        "\n",
        "account = BankAccount()\n",
        "account.deposit(5200)\n",
        "account.withdraw(1700)\n",
        "account.check_balance()"
      ],
      "metadata": {
        "colab": {
          "base_uri": "https://localhost:8080/"
        },
        "id": "aML4raS60CM3",
        "outputId": "17815d1d-e24f-4772-ee5f-554d80d2b63b"
      },
      "execution_count": 9,
      "outputs": [
        {
          "output_type": "stream",
          "name": "stdout",
          "text": [
            "Deposited : 5200 \n",
            "Total Balance : 11200\n",
            "\n",
            "\n",
            "Withdrawn Amount : 1700\n",
            "\n",
            "\n",
            "Current Balance : 9500\n"
          ]
        }
      ]
    },
    {
      "cell_type": "code",
      "source": [
        "#6\n",
        "class Instrument:\n",
        "    def play(self):\n",
        "        parint(\"Playing an instrument.\")\n",
        "\n",
        "class Guitar(Instrument):\n",
        "    def play(self):\n",
        "        print(\"Strumming the guitar.\")\n",
        "\n",
        "class Piano(Instrument):\n",
        "    def play(self):\n",
        "        print(\"Playing the Piano.\")\n",
        "\n",
        "instruments = [Guitar(), Piano()]\n",
        "for instrument in instruments:\n",
        "    instrument.play()"
      ],
      "metadata": {
        "colab": {
          "base_uri": "https://localhost:8080/"
        },
        "id": "iGlbdniY0JEu",
        "outputId": "8e62605e-afb7-458e-cfbf-c1ab12b61463"
      },
      "execution_count": 8,
      "outputs": [
        {
          "output_type": "stream",
          "name": "stdout",
          "text": [
            "Strumming the guitar.\n",
            "Playing the Piano.\n"
          ]
        }
      ]
    },
    {
      "cell_type": "code",
      "source": [
        "#7\n",
        "class MathOperations:\n",
        "    @classmethod\n",
        "    def add_numbers(cls, a, b):\n",
        "        return a+b\n",
        "\n",
        "    @staticmethod\n",
        "    def subtract_numbers(a, b):\n",
        "        return a - b\n",
        "\n",
        "math = MathOperations()\n",
        "print('Adding numbers :', math.add_numbers(69,34))\n",
        "print('Subtracting numbers :', math.subtract_numbers(69,34))"
      ],
      "metadata": {
        "colab": {
          "base_uri": "https://localhost:8080/"
        },
        "id": "jeJcFJGP0kZR",
        "outputId": "2fe747ad-7654-4808-d383-1be008b476d3"
      },
      "execution_count": 12,
      "outputs": [
        {
          "output_type": "stream",
          "name": "stdout",
          "text": [
            "Adding numbers : 103\n",
            "Subtracting numbers : 35\n"
          ]
        }
      ]
    },
    {
      "cell_type": "code",
      "source": [
        "#8\n",
        "\n",
        "class Person:\n",
        "    count = 0\n",
        "\n",
        "    def __init__(self, name):\n",
        "        self.name = name\n",
        "        Person.count += 1\n",
        "\n",
        "    @classmethod\n",
        "    def total_persons(cls):\n",
        "        return cls.count\n",
        "\n",
        "p1 = Person('kumar')\n",
        "p2 = Person('sanjay')\n",
        "p3 = Person('bijay')\n",
        "p4 = Person('ajay')\n",
        "p5 = Person('Robin')\n",
        "\n",
        "print('Total persons created :', Person.total_persons())"
      ],
      "metadata": {
        "id": "GG5-j0Se0p1o",
        "outputId": "5ba00451-f13a-4cee-a6dd-8ad8ba400594",
        "colab": {
          "base_uri": "https://localhost:8080/"
        }
      },
      "execution_count": 14,
      "outputs": [
        {
          "output_type": "stream",
          "name": "stdout",
          "text": [
            "Total persons created : 5\n"
          ]
        }
      ]
    },
    {
      "cell_type": "code",
      "source": [
        "#9\n",
        "class Fraction:\n",
        "    def __init__(self, numerator, denominator):\n",
        "        self.numerator = numerator\n",
        "        self.denominator = denominator\n",
        "\n",
        "    def __str__(self):\n",
        "        return f'{self.numerator}/{self.denominator}'\n",
        "\n",
        "f = Fraction(6,7)\n",
        "print(f)"
      ],
      "metadata": {
        "id": "WKGukQZ205nh",
        "outputId": "76ed0d3e-4605-467c-89d4-ad2f6b41256e",
        "colab": {
          "base_uri": "https://localhost:8080/"
        }
      },
      "execution_count": 16,
      "outputs": [
        {
          "output_type": "stream",
          "name": "stdout",
          "text": [
            "6/7\n"
          ]
        }
      ]
    },
    {
      "cell_type": "code",
      "source": [
        "#10\n",
        "class Vector:\n",
        "    def __init__(self, x, y):\n",
        "        self.x = x\n",
        "        self.y = y\n",
        "\n",
        "    def __add__(self, other):\n",
        "        return Vector(self.x + other.x, self.y + other.y)\n",
        "\n",
        "    def __str__(self):\n",
        "        return f\"({self.x}, {self.y})\"\n",
        "\n",
        "v1 = Vector(2,3)\n",
        "v2 = Vector(4,5)\n",
        "v3 = v1 + v2\n",
        "print(v3)"
      ],
      "metadata": {
        "id": "fbNvPOSa1Cna",
        "outputId": "e64bcf29-d927-4169-ef10-80b7292d6c2c",
        "colab": {
          "base_uri": "https://localhost:8080/"
        }
      },
      "execution_count": 17,
      "outputs": [
        {
          "output_type": "stream",
          "name": "stdout",
          "text": [
            "(6, 8)\n"
          ]
        }
      ]
    },
    {
      "cell_type": "code",
      "source": [
        "#11\n",
        "class Person:\n",
        "    def __init__(self, name, age):\n",
        "        self.name = name\n",
        "        self.age = age\n",
        "\n",
        "    def greet(self):\n",
        "        print('Hello my name is', self.name, 'and I am', self.age, 'years old.')\n",
        "\n",
        "p = Person('Kumarpal', 29)\n",
        "p.greet()"
      ],
      "metadata": {
        "id": "zwOXVPR-1JgF",
        "outputId": "1270d2eb-9868-4e25-cf5c-96acdf2e2454",
        "colab": {
          "base_uri": "https://localhost:8080/"
        }
      },
      "execution_count": 18,
      "outputs": [
        {
          "output_type": "stream",
          "name": "stdout",
          "text": [
            "Hello my name is Kumarpal and I am 29 years old.\n"
          ]
        }
      ]
    },
    {
      "cell_type": "code",
      "source": [
        "#12\n",
        "class Student:\n",
        "    def __init__(self, name, grades):\n",
        "        self.name = name\n",
        "        self.grades = grades\n",
        "\n",
        "    def average_grade(self):\n",
        "        return sum(self.grades)/len(self.grades)\n",
        "\n",
        "s = Student('kumar', [88, 95, 75])\n",
        "print('Average grade :', s.average_grade())"
      ],
      "metadata": {
        "id": "HiGXxbO01SdC",
        "outputId": "9b923900-1a69-477b-d753-5af03391d038",
        "colab": {
          "base_uri": "https://localhost:8080/"
        }
      },
      "execution_count": 20,
      "outputs": [
        {
          "output_type": "stream",
          "name": "stdout",
          "text": [
            "Average grade : 86.0\n"
          ]
        }
      ]
    },
    {
      "cell_type": "code",
      "source": [
        "#13\n",
        "class Rectangle:\n",
        "    def set_dimensions(self, width, height):\n",
        "        self.width = width\n",
        "        self.height = height\n",
        "\n",
        "    def area(self):\n",
        "        return self.width * self.height\n",
        "\n",
        "# Example usage\n",
        "r = Rectangle()\n",
        "r.set_dimensions(4, 8)\n",
        "print(\"Area:\", r.area())"
      ],
      "metadata": {
        "id": "hwQLMvMj1cgM",
        "outputId": "c2bcf4a9-de14-48db-c2e3-5b72a100bdc0",
        "colab": {
          "base_uri": "https://localhost:8080/"
        }
      },
      "execution_count": 21,
      "outputs": [
        {
          "output_type": "stream",
          "name": "stdout",
          "text": [
            "Area: 32\n"
          ]
        }
      ]
    },
    {
      "cell_type": "code",
      "source": [
        "#14\n",
        "\n",
        "class Employee:\n",
        "    def calculate_salary (self, hours_worked, hourly_rate):\n",
        "        return hours_worked*hourly_rate\n",
        "\n",
        "class Manager(Employee):\n",
        "    def calculate_salary(self, hours_worked, hourly_rate, bonus):\n",
        "        base_salary = super().calculate_salary(hours_worked, hourly_rate)\n",
        "        return base_salary + bonus\n",
        "\n",
        "e = Employee()\n",
        "print('Employee Salary :',  e.calculate_salary(60,20))\n",
        "\n",
        "m = Manager()\n",
        "print('Manager Salary :', m.calculate_salary(40, 30, 500))"
      ],
      "metadata": {
        "id": "Ygg3U0AL1i6e",
        "outputId": "dd9b624b-dbb5-44d3-b3c1-ad173c5ff671",
        "colab": {
          "base_uri": "https://localhost:8080/"
        }
      },
      "execution_count": 23,
      "outputs": [
        {
          "output_type": "stream",
          "name": "stdout",
          "text": [
            "Employee Salary : 1200\n",
            "Manager Salary : 1700\n"
          ]
        }
      ]
    },
    {
      "cell_type": "code",
      "source": [
        "#15\n",
        "class Product:\n",
        "    def __init__(self, name, price, quantity):\n",
        "        self.name = name\n",
        "        self.price = price\n",
        "        self.quantity = quantity\n",
        "\n",
        "    def total_price(self):\n",
        "        return self.price * self.quantity\n",
        "\n",
        "# Example usage\n",
        "p = Product(\"Laptop\", 50000, 2)\n",
        "print(\"Total Price:\", p.total_price())"
      ],
      "metadata": {
        "id": "0JzjaPzj1vtT",
        "outputId": "a6800f28-7fdb-4002-8f04-7d07ffa2a98a",
        "colab": {
          "base_uri": "https://localhost:8080/"
        }
      },
      "execution_count": 24,
      "outputs": [
        {
          "output_type": "stream",
          "name": "stdout",
          "text": [
            "Total Price: 100000\n"
          ]
        }
      ]
    },
    {
      "cell_type": "code",
      "source": [
        "#16\n",
        "class Animal:\n",
        "    def sound(self):\n",
        "        raise NotImplementedError('Subclass must implement this method')\n",
        "\n",
        "class Cow(Animal):\n",
        "    def sound(self):\n",
        "        print('Moo')\n",
        "\n",
        "class Sheep(Animal):\n",
        "    def sound(self):\n",
        "        print(\"Baa\")\n",
        "\n",
        "animals = [Cow(), Sheep()]\n",
        "for animal in animals:\n",
        "    animal.sound()"
      ],
      "metadata": {
        "id": "TTVY4Vd52B4K",
        "outputId": "4a8d00e5-021a-4b2a-dd36-f879dc19083f",
        "colab": {
          "base_uri": "https://localhost:8080/"
        }
      },
      "execution_count": 25,
      "outputs": [
        {
          "output_type": "stream",
          "name": "stdout",
          "text": [
            "Moo\n",
            "Baa\n"
          ]
        }
      ]
    },
    {
      "cell_type": "code",
      "source": [
        "#17\n",
        "class Book:\n",
        "    def __init__(self, title, author, year_published):\n",
        "        self.title = title\n",
        "        self.author = author\n",
        "        self.year_published = year_published\n",
        "\n",
        "    def get_book_info(self):\n",
        "        return f\"'{self.title}' by {self.author}, published in {self.year_published}\"\n",
        "\n",
        "\n",
        "b = Book(\"ELON MUSK\", \"Ashlee vance\", 1988)\n",
        "print(b.get_book_info())"
      ],
      "metadata": {
        "id": "K8iDmOle2MXp",
        "outputId": "6e2f160c-5e34-4182-bf07-6ef182488cac",
        "colab": {
          "base_uri": "https://localhost:8080/"
        }
      },
      "execution_count": 26,
      "outputs": [
        {
          "output_type": "stream",
          "name": "stdout",
          "text": [
            "'ELON MUSK' by Ashlee vance, published in 1988\n"
          ]
        }
      ]
    },
    {
      "cell_type": "code",
      "source": [
        "#18\n",
        "\n",
        "class House:\n",
        "    def __init__(self, address, price):\n",
        "        self.address = address\n",
        "        self.price = price\n",
        "\n",
        "class Mansion(House):\n",
        "    def __init__(self, address, price, number_of_rooms):\n",
        "        super().__init__(address, price)\n",
        "        self.number_of_rooms = number_of_rooms\n",
        "\n",
        "\n",
        "m = Mansion(\"401 sparsh residency\", 5000000, 14)\n",
        "print(m.address, m.price, m.number_of_rooms)"
      ],
      "metadata": {
        "id": "MbxXGCBg2lAM",
        "outputId": "a38a4495-c750-419b-d6b0-2585d6438567",
        "colab": {
          "base_uri": "https://localhost:8080/"
        }
      },
      "execution_count": 28,
      "outputs": [
        {
          "output_type": "stream",
          "name": "stdout",
          "text": [
            "401 sparsh residency 5000000 14\n"
          ]
        }
      ]
    }
  ]
}