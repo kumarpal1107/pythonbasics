{
  "nbformat": 4,
  "nbformat_minor": 0,
  "metadata": {
    "colab": {
      "provenance": [],
      "authorship_tag": "ABX9TyMTFX89/Kbb4gCtB6EWsun0",
      "include_colab_link": true
    },
    "kernelspec": {
      "name": "python3",
      "display_name": "Python 3"
    },
    "language_info": {
      "name": "python"
    }
  },
  "cells": [
    {
      "cell_type": "markdown",
      "metadata": {
        "id": "view-in-github",
        "colab_type": "text"
      },
      "source": [
        "<a href=\"https://colab.research.google.com/github/kumarpal1107/pythonbasics/blob/main/Datastructures.ipynb\" target=\"_parent\"><img src=\"https://colab.research.google.com/assets/colab-badge.svg\" alt=\"Open In Colab\"/></a>"
      ]
    },
    {
      "cell_type": "code",
      "execution_count": null,
      "metadata": {
        "id": "yZtUcfO0emKe"
      },
      "outputs": [],
      "source": [
        "# practical questions"
      ]
    },
    {
      "cell_type": "code",
      "source": [
        "#1\n",
        "my_name = \"kumar\"\n",
        "print(my_name)"
      ],
      "metadata": {
        "colab": {
          "base_uri": "https://localhost:8080/"
        },
        "id": "BySKFqkie9im",
        "outputId": "b07e5070-8c6c-449f-8d4f-b21fabee7ed2"
      },
      "execution_count": 2,
      "outputs": [
        {
          "output_type": "stream",
          "name": "stdout",
          "text": [
            "kumar\n"
          ]
        }
      ]
    },
    {
      "cell_type": "code",
      "source": [
        "#2\n",
        "a= \"hello world\"\n",
        "print(len(a))"
      ],
      "metadata": {
        "colab": {
          "base_uri": "https://localhost:8080/"
        },
        "id": "37Ym-yikfU5b",
        "outputId": "20dde74f-f188-477a-eaac-a5830382db7d"
      },
      "execution_count": 3,
      "outputs": [
        {
          "output_type": "stream",
          "name": "stdout",
          "text": [
            "11\n"
          ]
        }
      ]
    },
    {
      "cell_type": "code",
      "source": [
        "#3\n",
        "a = \" python programming\"\n",
        "sliced_string = a[:3]\n",
        "print(a)"
      ],
      "metadata": {
        "colab": {
          "base_uri": "https://localhost:8080/"
        },
        "id": "1KDZCT54fg5A",
        "outputId": "ae0890d3-3f90-47a5-ce22-a08309439833"
      },
      "execution_count": 5,
      "outputs": [
        {
          "output_type": "stream",
          "name": "stdout",
          "text": [
            " python programming\n"
          ]
        }
      ]
    },
    {
      "cell_type": "code",
      "source": [
        "#4\n",
        "s = \"hello\"\n",
        "res = s.upper()\n",
        "print(res)"
      ],
      "metadata": {
        "colab": {
          "base_uri": "https://localhost:8080/"
        },
        "id": "s8cW9eRwgBwl",
        "outputId": "035f112b-ab82-44cb-8555-fd7a3107ebb2"
      },
      "execution_count": 10,
      "outputs": [
        {
          "output_type": "stream",
          "name": "stdout",
          "text": [
            "HELLO\n"
          ]
        }
      ]
    },
    {
      "cell_type": "code",
      "source": [
        "#5\n",
        "B = \"I like apple\"\n",
        "new = B.replace(\"apple\" , \"orange\")\n",
        "print(new)"
      ],
      "metadata": {
        "colab": {
          "base_uri": "https://localhost:8080/"
        },
        "id": "TNMXEDs4hFyP",
        "outputId": "d2196f8c-9524-4c41-e5d1-64df45f9b4d5"
      },
      "execution_count": 11,
      "outputs": [
        {
          "output_type": "stream",
          "name": "stdout",
          "text": [
            "I like orange\n"
          ]
        }
      ]
    },
    {
      "cell_type": "code",
      "source": [
        "#6\n",
        "my_list = [1 , 2 , 3 , 4 , 5]\n",
        "print(my_list)"
      ],
      "metadata": {
        "colab": {
          "base_uri": "https://localhost:8080/"
        },
        "id": "uCM0AY3ohl_j",
        "outputId": "19d20c5c-85da-4c3d-eb8e-d71fc7a27ffd"
      },
      "execution_count": 12,
      "outputs": [
        {
          "output_type": "stream",
          "name": "stdout",
          "text": [
            "[1, 2, 3, 4, 5]\n"
          ]
        }
      ]
    },
    {
      "cell_type": "code",
      "source": [
        "\n",
        "#7\n",
        "my_list = [1,2,3,4]\n",
        "my_list.append(10)\n",
        "print(my_list)"
      ],
      "metadata": {
        "colab": {
          "base_uri": "https://localhost:8080/"
        },
        "id": "fJIw9Vtsh5k4",
        "outputId": "11ffc742-cee9-453a-b1b1-13371b93ed8d"
      },
      "execution_count": 13,
      "outputs": [
        {
          "output_type": "stream",
          "name": "stdout",
          "text": [
            "[1, 2, 3, 4, 10]\n"
          ]
        }
      ]
    },
    {
      "cell_type": "code",
      "source": [
        "#8\n",
        "my_list = [1,2,3,4,5]\n",
        "my_list.remove(3)\n",
        "print(my_list)"
      ],
      "metadata": {
        "colab": {
          "base_uri": "https://localhost:8080/"
        },
        "id": "IQ-jvlEViVk8",
        "outputId": "37d9cf76-11ab-4d49-b4c9-76f96ef942d9"
      },
      "execution_count": 14,
      "outputs": [
        {
          "output_type": "stream",
          "name": "stdout",
          "text": [
            "[1, 2, 4, 5]\n"
          ]
        }
      ]
    },
    {
      "cell_type": "code",
      "source": [
        "#9\n",
        "my_list = ['a' , 'b' , 'c', 'd']\n",
        "second_element = my_list[1]\n",
        "print(second_element)"
      ],
      "metadata": {
        "colab": {
          "base_uri": "https://localhost:8080/"
        },
        "id": "BV0hNxF5itDl",
        "outputId": "0e9111ac-8d1a-414b-e4e7-00ade121c8fe"
      },
      "execution_count": 15,
      "outputs": [
        {
          "output_type": "stream",
          "name": "stdout",
          "text": [
            "b\n"
          ]
        }
      ]
    },
    {
      "cell_type": "code",
      "source": [
        "#10\n",
        "my_list = [10,20,30,40,50]\n",
        "my_list.reverse()\n",
        "print(my_list)"
      ],
      "metadata": {
        "colab": {
          "base_uri": "https://localhost:8080/"
        },
        "id": "ldR98hEDjLam",
        "outputId": "b8016d69-1949-40c1-cb82-4b434a5539f5"
      },
      "execution_count": 16,
      "outputs": [
        {
          "output_type": "stream",
          "name": "stdout",
          "text": [
            "[50, 40, 30, 20, 10]\n"
          ]
        }
      ]
    },
    {
      "cell_type": "code",
      "source": [
        "#11\n",
        "my_tuple = (100,200,300)\n",
        "print(my_tuple)"
      ],
      "metadata": {
        "colab": {
          "base_uri": "https://localhost:8080/"
        },
        "id": "5OpJ0o8OjoGG",
        "outputId": "2bfb3cda-4f68-48b2-97bb-4eca59048c11"
      },
      "execution_count": 17,
      "outputs": [
        {
          "output_type": "stream",
          "name": "stdout",
          "text": [
            "(100, 200, 300)\n"
          ]
        }
      ]
    },
    {
      "cell_type": "code",
      "source": [
        "#12\n",
        "k= [\"red\" , \"green\" , \"blue\" , \"yellow\"]\n",
        "print(k[-2])"
      ],
      "metadata": {
        "colab": {
          "base_uri": "https://localhost:8080/"
        },
        "id": "-OixRlx_j_5r",
        "outputId": "bd2571fa-0d4d-4bf6-82d7-503f78e2c220"
      },
      "execution_count": 18,
      "outputs": [
        {
          "output_type": "stream",
          "name": "stdout",
          "text": [
            "blue\n"
          ]
        }
      ]
    },
    {
      "cell_type": "code",
      "source": [
        "#13\n",
        "T= (10,20,5,15)\n",
        "M= min(T)\n",
        "print(M)"
      ],
      "metadata": {
        "colab": {
          "base_uri": "https://localhost:8080/"
        },
        "id": "TqFmpnfMmQ15",
        "outputId": "a6451ddd-e9b9-4e56-c439-99a2d7388f42"
      },
      "execution_count": 19,
      "outputs": [
        {
          "output_type": "stream",
          "name": "stdout",
          "text": [
            "5\n"
          ]
        }
      ]
    },
    {
      "cell_type": "code",
      "source": [
        "#14\n",
        "t=('dog' , 'cat' , 'rabbit')\n",
        "print(t.index('cat'))"
      ],
      "metadata": {
        "colab": {
          "base_uri": "https://localhost:8080/"
        },
        "id": "sIrUgrxwm3M9",
        "outputId": "e765e411-2664-4a56-93c7-3d148faa64ba"
      },
      "execution_count": 21,
      "outputs": [
        {
          "output_type": "stream",
          "name": "stdout",
          "text": [
            "1\n"
          ]
        }
      ]
    },
    {
      "cell_type": "code",
      "source": [
        "#15\n",
        "Fruits_tuple = (\"apple\", \"banana\" , \"orange\")\n",
        "if \"kiwi\" in Fruits_tuple:\n",
        "    print(\"kiwi is in the Fruits tuple\")\n",
        "else:\n",
        "    print(\"kiwi is not in the Fruits tuple\")"
      ],
      "metadata": {
        "colab": {
          "base_uri": "https://localhost:8080/"
        },
        "id": "v0VPAJo-n9YR",
        "outputId": "2fb96e11-084f-478b-d293-09dbc6f12f39"
      },
      "execution_count": 22,
      "outputs": [
        {
          "output_type": "stream",
          "name": "stdout",
          "text": [
            "kiwi is not in the Fruits tuple\n"
          ]
        }
      ]
    },
    {
      "cell_type": "code",
      "source": [
        "#16\n",
        "my_set = {'a','b','c'}\n",
        "print(my_set)"
      ],
      "metadata": {
        "colab": {
          "base_uri": "https://localhost:8080/"
        },
        "id": "I4vSfhPnooD3",
        "outputId": "625d04bc-b450-4022-e32a-403c476a7335"
      },
      "execution_count": 23,
      "outputs": [
        {
          "output_type": "stream",
          "name": "stdout",
          "text": [
            "{'b', 'a', 'c'}\n"
          ]
        }
      ]
    },
    {
      "cell_type": "code",
      "source": [
        "#17\n",
        "my_set = {1,2,3,4,5}\n",
        "print(f\"original set: {my_set}\")\n",
        "my_set.clear()\n",
        "print(f\"set after clearing: {my_set}\")"
      ],
      "metadata": {
        "colab": {
          "base_uri": "https://localhost:8080/"
        },
        "id": "PRWlFhzjpSsV",
        "outputId": "004875e4-baf9-4955-8621-251257bcf982"
      },
      "execution_count": 24,
      "outputs": [
        {
          "output_type": "stream",
          "name": "stdout",
          "text": [
            "original set: {1, 2, 3, 4, 5}\n",
            "set after clearing: set()\n"
          ]
        }
      ]
    },
    {
      "cell_type": "code",
      "source": [
        "#18\n",
        "my_set = {1,2,3,4}\n",
        "my_set.discard(4)\n",
        "print(my_set)"
      ],
      "metadata": {
        "colab": {
          "base_uri": "https://localhost:8080/"
        },
        "id": "QQUIDYVDp_Gb",
        "outputId": "30c54d25-c629-49d7-aba2-a3d155ddd9c8"
      },
      "execution_count": 25,
      "outputs": [
        {
          "output_type": "stream",
          "name": "stdout",
          "text": [
            "{1, 2, 3}\n"
          ]
        }
      ]
    },
    {
      "cell_type": "code",
      "source": [
        "# theory questions"
      ],
      "metadata": {
        "id": "bIuuKbjdqe3U"
      },
      "execution_count": null,
      "outputs": []
    },
    {
      "cell_type": "code",
      "source": [
        "1)Data structures are a way of organizing, storing, and managing data in a computer so it can be used efficiently"
      ],
      "metadata": {
        "id": "PqOSklv6qfP6"
      },
      "execution_count": null,
      "outputs": []
    },
    {
      "cell_type": "code",
      "source": [
        "2)Mutable Data Types:\n",
        "Mutable data types are those whose values or internal state can be modified after they have been initialized. This means you can add, remove, or change elements within the object without creating a new object in memory.\n",
        "Examples:\n",
        "Lists: Elements can be added, removed, or modified.\n",
        "\n",
        "Immutable Data Types:\n",
        "Immutable data types are those whose values cannot be changed once they are created. Any operation that appears to modify an immutable object actually results in the creation of a new object with the desired changes, and the original object remains unchanged.\n",
        "Examples:\n",
        "Numbers (integers, floats, complex numbers): When you perform an operation on a number, a new number object is created."
      ],
      "metadata": {
        "id": "DStvKBYjqzw7"
      },
      "execution_count": null,
      "outputs": []
    },
    {
      "cell_type": "code",
      "source": [
        "3)Lists are mutable\n",
        "Tuples are immutable"
      ],
      "metadata": {
        "id": "w1FGu8PWrJaR"
      },
      "execution_count": null,
      "outputs": []
    },
    {
      "cell_type": "code",
      "source": [
        "4)Python dictionaries store data as a collection of key-value pairs."
      ],
      "metadata": {
        "id": "CBykCE5wrUrx"
      },
      "execution_count": null,
      "outputs": []
    },
    {
      "cell_type": "code",
      "source": [
        "5)Sets are used to store multiple items in a single variable."
      ],
      "metadata": {
        "id": "jLlzSu_qreWh"
      },
      "execution_count": null,
      "outputs": []
    },
    {
      "cell_type": "code",
      "source": [
        "6)a string is a fundamental data type used to represent sequences of characters."
      ],
      "metadata": {
        "id": "TWZyF_KdrsIY"
      },
      "execution_count": null,
      "outputs": []
    },
    {
      "cell_type": "code",
      "source": [
        "7)Tuples in Python ensure data integrity primarily through their immutability."
      ],
      "metadata": {
        "id": "AfDDrMjxr21P"
      },
      "execution_count": null,
      "outputs": []
    },
    {
      "cell_type": "code",
      "source": [
        "8)\n",
        "A hash table, also known as a hash map, is a data structure that implements an associative array, mapping keys to values. It utilizes a hash function to compute an index (a hash code) into an array of buckets or slots, where the corresponding value can be stored or retrieved.\n",
        "In Python, dictionaries (dict) are the built-in implementation of hash tables. When a key-value pair is added to a Python dictionary"
      ],
      "metadata": {
        "id": "loCZ5b4QsDqX"
      },
      "execution_count": null,
      "outputs": []
    },
    {
      "cell_type": "code",
      "source": [
        "9)\n",
        "Yes, a Python list can contain different data types within the same list."
      ],
      "metadata": {
        "id": "IPFF4up6sYvY"
      },
      "execution_count": null,
      "outputs": []
    },
    {
      "cell_type": "code",
      "source": [
        "10)\n",
        "Strings are immutable in Python, meaning once a string object is created, its content cannot be directly modified. Any operation that appears to \"change\" a string, such as concatenation or replacement, actually results in the creation of a new string object in memory."
      ],
      "metadata": {
        "id": "1fxaNU_zsiKC"
      },
      "execution_count": null,
      "outputs": []
    },
    {
      "cell_type": "code",
      "source": [
        "11)\n",
        "Python dictionaries provide fast lookups, which make them ideal for indexing and searching large datasets. This is because dictionary keys are hashed, which allows for a constant-time lookup of values associated with a given key"
      ],
      "metadata": {
        "id": "AfJ3jQBTstkh"
      },
      "execution_count": null,
      "outputs": []
    },
    {
      "cell_type": "code",
      "source": [
        "12)\n",
        "Consider the representation of a geographic coordinate (latitude, longitude). A coordinate is inherently a pair of values that should not change independently; altering one without the other would result in a different, unrelated location. Using a tuple (latitude, longitude) ensures this immutability. If a list [latitude, longitude] were used, there would be a risk of accidentally modifying only one of the values, leading to an invalid or inconsistent coordinate."
      ],
      "metadata": {
        "id": "65QUZyRttEAP"
      },
      "execution_count": null,
      "outputs": []
    },
    {
      "cell_type": "code",
      "source": [
        "13)\n",
        "Python sets are designed to store only unique elements. This means that when you add elements to a set, any duplicate values are automatically disregarded."
      ],
      "metadata": {
        "id": "Ewz7IAijtWK9"
      },
      "execution_count": null,
      "outputs": []
    },
    {
      "cell_type": "code",
      "source": [
        "14)\n",
        "\n",
        "For Lists:\n",
        "When in is used with a list, it performs a linear search. This means Python iterates through each element of the list, one by one, comparing it to the value being searched for. If a match is found, it returns True; otherwise, it continues until the end of the list and returns False.\n",
        "\n",
        "For Dictionaries:\n",
        "When in is used with a dictionary, it checks for the presence of a key, not a value. Dictionaries are implemented using hash tables, which allow for very efficient lookups based on keys. When you use in with a dictionary, Python calculates the hash of the key you are searching for and directly checks if that hash corresponds to an existing key in the dictionary. This is a much faster operation than a linear search, especially for large collections."
      ],
      "metadata": {
        "id": "hUdPtIl4tfcu"
      },
      "execution_count": null,
      "outputs": []
    },
    {
      "cell_type": "code",
      "source": [
        "15)\n",
        "No, the elements of a tuple cannot be directly modified after the tuple has been created. Tuples are immutable data structures in Python."
      ],
      "metadata": {
        "id": "uNc4hayRtxDR"
      },
      "execution_count": null,
      "outputs": []
    },
    {
      "cell_type": "code",
      "source": [
        "16)\n",
        "A nested dictionary in Python is a dictionary where the value associated with one or more keys is itself another dictionary. This structure allows for the representation of hierarchical or complex data, similar to how records or objects with nested properties are handled in other programming languages"
      ],
      "metadata": {
        "id": "rFDmhZWzt7kj"
      },
      "execution_count": null,
      "outputs": []
    },
    {
      "cell_type": "code",
      "source": [
        "17)\n",
        "\n",
        "Accessing elements in a dictionary, such as retrieving a value by its key or checking for the presence of a key, generally exhibits an average time complexity of O(1) (constant time). This efficiency stems from the underlying implementation of dictionaries as hash tables."
      ],
      "metadata": {
        "id": "aXoMiDkWuLNw"
      },
      "execution_count": null,
      "outputs": []
    },
    {
      "cell_type": "code",
      "source": [
        "18)Lists are preferred over dictionaries in several situations, primarily when the order of elements is crucial or when data is accessed sequentially by numerical index."
      ],
      "metadata": {
        "id": "nbnZsCezuUqZ"
      },
      "execution_count": null,
      "outputs": []
    },
    {
      "cell_type": "code",
      "source": [
        "19)Dictionaries, fundamentally, are designed for efficient data retrieval based on keys, not for maintaining a specific order of elements. While the behavior of dictionaries regarding order has evolved in Python, their core design principles explain why they are traditionally considered \"unordered\""
      ],
      "metadata": {
        "id": "k3aY0ftFvJ8T"
      },
      "execution_count": null,
      "outputs": []
    },
    {
      "cell_type": "code",
      "source": [
        "20)The primary difference between Python lists and dictionaries in terms of data retrieval lies in their underlying structure and how elements are accessed."
      ],
      "metadata": {
        "id": "BcXWfFYCvKcm"
      },
      "execution_count": null,
      "outputs": []
    }
  ]
}